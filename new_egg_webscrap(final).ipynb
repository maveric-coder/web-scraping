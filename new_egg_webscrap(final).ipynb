{
 "cells": [
  {
   "cell_type": "code",
   "execution_count": 1,
   "metadata": {},
   "outputs": [],
   "source": [
    "import requests\n",
    "r = requests.get('https://www.newegg.com/Video-Cards-Video-Devices/Category/ID-38?Tpk=graphics%20card')"
   ]
  },
  {
   "cell_type": "code",
   "execution_count": 2,
   "metadata": {},
   "outputs": [],
   "source": [
    "from bs4 import BeautifulSoup\n",
    "soup = BeautifulSoup(r.text,'html.parser')"
   ]
  },
  {
   "cell_type": "code",
   "execution_count": 3,
   "metadata": {},
   "outputs": [],
   "source": [
    "results=soup.find_all('div', attrs={'class':'item-container'})"
   ]
  },
  {
   "cell_type": "code",
   "execution_count": 4,
   "metadata": {},
   "outputs": [
    {
     "data": {
      "text/plain": [
       "<div class=\"item-container\">\n",
       "<!--product image-->\n",
       "<a class=\"item-img\" href=\"https://www.newegg.com/asus-geforce-rtx-2080-ti-rog-strix-rtx2080ti-11g-gaming/p/N82E16814126080?Item=N82E16814126080\">\n",
       "<div class=\"item-badges\">\n",
       "</div>\n",
       "<img alt=\"ASUS ROG Strix GeForce RTX 2080 Ti DirectX 12 ROG-STRIX-RTX2080TI-11G-GAMING 11GB 352-Bit GDDR6 PCI Express 3.0 HDCP Ready SLI Support Video Card\" class=\"lazy-img\" data-effect=\"fadeIn\" data-src=\"//c1.neweggimages.com/NeweggImage/ProductImageCompressAll300/14-126-080-V50.jpg\" src=\"//c1.neweggimages.com/WebResource/Themes/2005/Nest/blank.gif\" title=\"ASUS ROG Strix GeForce RTX 2080 Ti DirectX 12 ROG-STRIX-RTX2080TI-11G-GAMING 11GB 352-Bit GDDR6 PCI Express 3.0 HDCP Ready SLI Support Video Card\">\n",
       "</img></a>\n",
       "<div class=\"item-info\">\n",
       "<!--brand info-->\n",
       "<div class=\"item-branding\">\n",
       "<a class=\"item-brand\" href=\"https://www.newegg.com/ASUS/BrandStore/ID-1315\">\n",
       "<img alt=\"ASUS\" class=\"lazy-img\" data-effect=\"fadeIn\" data-src=\"//c1.neweggimages.com/Brandimage_70x28//Brand1315.gif\" src=\"//c1.neweggimages.com/WebResource/Themes/2005/Nest/blank.gif\" title=\"ASUS\">\n",
       "</img></a>\n",
       "<!--rating info-->\n",
       "<a class=\"item-rating\" href=\"https://www.newegg.com/asus-geforce-rtx-2080-ti-rog-strix-rtx2080ti-11g-gaming/p/N82E16814126080?Item=N82E16814126080&amp;SortField=0&amp;SummaryType=0&amp;PageSize=10&amp;SelectedRating=-1&amp;VideoOnlyMark=False&amp;IsFeedbackTab=true#scrollFullInfo\" title=\"Rating + 4\"><i class=\"rating rating-4\"></i><span class=\"item-rating-num\">(9)</span></a>\n",
       "</div>\n",
       "<!--description info-->\n",
       "<a class=\"item-title\" href=\"https://www.newegg.com/asus-geforce-rtx-2080-ti-rog-strix-rtx2080ti-11g-gaming/p/N82E16814126080?Item=N82E16814126080\" title=\"View Details\">ASUS ROG Strix GeForce RTX 2080 Ti DirectX 12 ROG-STRIX-RTX2080TI-11G-GAMING Video Card</a>\n",
       "<!--promption info-->\n",
       "<p class=\"item-promo\"></p>\n",
       "<!--feature-->\n",
       "<ul class=\"item-features\">\n",
       "<li><strong>Core Clock:</strong> 1350 MHz</li><li><strong>Max Resolution:</strong> 7680 x 4320</li><li><strong>DisplayPort:</strong> 2 x DisplayPort 1.4</li><li><strong>HDMI:</strong> 2 x HDMI 2.0b</li>\n",
       "<li><strong>Model #: </strong>RTX2080TI-11G-GAMING</li>\n",
       "<li><strong>Item #: </strong>N82E16814126080</li>\n",
       "</ul>\n",
       "<div class=\"item-action\">\n",
       "<!--price-->\n",
       "<ul class=\"price\">\n",
       "<li class=\"price-was\">\n",
       "</li>\n",
       "<li class=\"price-map\">\n",
       "</li>\n",
       "<li class=\"price-current\">\n",
       "<span class=\"price-current-label\">\n",
       "</span>$<strong>1,259</strong><sup>.99</sup> \n",
       "            <span class=\"price-current-range\">\n",
       "<abbr title=\"to\">–</abbr>\n",
       "</span>\n",
       "</li>\n",
       "<li class=\"price-save\">\n",
       "<span class=\"price-save-endtime price-save-endtime-current\"></span>\n",
       "<span class=\"price-save-endtime price-save-endtime-another\" style=\"display:none;\"></span>\n",
       "</li>\n",
       "<li class=\"price-note\">\n",
       "</li>\n",
       "<li class=\"price-ship\">\n",
       "        $6.99 Shipping\n",
       "    </li>\n",
       "</ul>\n",
       "<!--egg point-->\n",
       "<!--financing-->\n",
       "<!--button-->\n",
       "<div class=\"item-operate hidden-action-button\">\n",
       "<div class=\"item-button-area\">\n",
       "<button class=\"btn btn-mini\" onclick=\"Javascript:Biz.ProductList.Item.add('https://www.newegg.com/asus-geforce-rtx-2080-ti-rog-strix-rtx2080ti-11g-gaming/p/N82E16814126080?Item=N82E16814126080');\" title=\"View Details\" type=\"button\">View Details <i class=\"fa fa-caret-right\"></i>\n",
       "</button>\n",
       "</div>\n",
       "<!--compare-->\n",
       "<div class=\"item-compare-box\">\n",
       "<label class=\"form-checkbox\">\n",
       "<input autocomplete=\"off\" name=\"CompareItem\" neg-itemnumber=\"14-126-080\" type=\"checkbox\" value=\"CompareItem_14-126-080\"/>\n",
       "<span class=\"form-checkbox-title\">Compare</span>\n",
       "</label>\n",
       "</div>\n",
       "<script type=\"text/javascript\">\n",
       "                            \n",
       "                                Biz.Product.CompareConfig2019.compareItems.push(\"14-126-080\");\n",
       "                                var itemThumbs = new Object();\n",
       "                                itemThumbs.subCategoryId = 48;\n",
       "                                itemThumbs.subCategoryDescription = \"Desktop Graphics Cards\";\n",
       "                                itemThumbs.itemNumber = \"14-126-080\";\n",
       "                                itemThumbs.imageUrl = \"//c1.neweggimages.com/ProductImageCompressAll35/14-126-080-V50.jpg\";\n",
       "                                itemThumbs.description = \"ASUS ROG Strix GeForce RTX 2080 Ti DirectX 12 ROG-STRIX-RTX2080TI-11G-GAMING Video Card\";\n",
       "                                itemThumbs.productUrl = \"/asus-geforce-rtx-2080-ti-rog-strix-rtx2080ti-11g-gaming/p/N82E16814126080?Item=N82E16814126080\";\n",
       "                                Biz.Product.CompareConfig2019.Thumbs.push(itemThumbs);\n",
       "                            \n",
       "                    </script>\n",
       "</div>\n",
       "<!--ExtendWarranty PopUp-->\n",
       "<input class=\"open-popup\" id=\"ew_N82E16814126080\" type=\"hidden\">\n",
       "<input class=\"open-popup\" id=\"ew_MainItemFailedAddToCart_N82E16814126080\" type=\"hidden\">\n",
       "</input></input></div>\n",
       "</div>\n",
       "<div class=\"item-stock\" id=\"stock_14-126-080\">\n",
       "</div>\n",
       "</div>"
      ]
     },
     "execution_count": 4,
     "metadata": {},
     "output_type": "execute_result"
    }
   ],
   "source": [
    "results[0]"
   ]
  },
  {
   "cell_type": "code",
   "execution_count": 5,
   "metadata": {},
   "outputs": [],
   "source": [
    "first_result = results[0]"
   ]
  },
  {
   "cell_type": "code",
   "execution_count": 6,
   "metadata": {},
   "outputs": [
    {
     "data": {
      "text/plain": [
       "'ASUS ROG Strix GeForce RTX 2080 Ti DirectX 12 ROG-STRIX-RTX2080TI-11G-GAMING 11GB 352-Bit GDDR6 PCI Express 3.0 HDCP Ready SLI Support Video Card'"
      ]
     },
     "execution_count": 6,
     "metadata": {},
     "output_type": "execute_result"
    }
   ],
   "source": [
    "##          title\n",
    "first_result.find('a').img['title']\n"
   ]
  },
  {
   "cell_type": "code",
   "execution_count": 7,
   "metadata": {},
   "outputs": [
    {
     "data": {
      "text/plain": [
       "'https://www.newegg.com/asus-geforce-rtx-2080-ti-rog-strix-rtx2080ti-11g-gaming/p/N82E16814126080?Item=N82E16814126080'"
      ]
     },
     "execution_count": 7,
     "metadata": {},
     "output_type": "execute_result"
    }
   ],
   "source": [
    "##                 url\n",
    "\n",
    "first_result.find('a')['href']\n",
    "\n"
   ]
  },
  {
   "cell_type": "code",
   "execution_count": 8,
   "metadata": {},
   "outputs": [
    {
     "data": {
      "text/plain": [
       "'$1,259.99'"
      ]
     },
     "execution_count": 8,
     "metadata": {},
     "output_type": "execute_result"
    }
   ],
   "source": [
    "##    price\n",
    "\n",
    "first_result.find_all('li', attrs={'class':'price-current'})[0].text.strip()[0:-17]"
   ]
  },
  {
   "cell_type": "code",
   "execution_count": 12,
   "metadata": {},
   "outputs": [
    {
     "data": {
      "text/plain": [
       "'$6.99'"
      ]
     },
     "execution_count": 12,
     "metadata": {},
     "output_type": "execute_result"
    }
   ],
   "source": [
    "##   shipping price\n",
    "first_result.find_all('li', attrs={'class':'price-ship'})[0].text.strip().replace(\"Shipping\",\"\")[0:-1]"
   ]
  },
  {
   "cell_type": "code",
   "execution_count": 22,
   "metadata": {},
   "outputs": [
    {
     "data": {
      "text/plain": [
       "'Asus'"
      ]
     },
     "execution_count": 22,
     "metadata": {},
     "output_type": "execute_result"
    }
   ],
   "source": [
    "###               brand\n",
    "\n",
    "\n",
    "first_result.find_all('a', attrs={'class':'item-brand'})[0].img['title'].title()"
   ]
  },
  {
   "cell_type": "code",
   "execution_count": 38,
   "metadata": {},
   "outputs": [
    {
     "data": {
      "text/plain": [
       "'+ 4'"
      ]
     },
     "execution_count": 38,
     "metadata": {},
     "output_type": "execute_result"
    }
   ],
   "source": [
    "### rating\n",
    "\n",
    "first_result.find_all('a', attrs={'class':'item-rating'})[0]['title'][7:]"
   ]
  },
  {
   "cell_type": "code",
   "execution_count": 39,
   "metadata": {},
   "outputs": [],
   "source": [
    "records = []\n",
    "for result in results:\n",
    "    brand = result.find_all('a', attrs={'class':'item-brand'})[0].img['title'].title()\n",
    "    title = result.find('a').img['title']\n",
    "    price = result.find_all('li', attrs={'class':'price-current'})[0].text.strip()[0:-17]\n",
    "    shipping_price = result.find_all('li', attrs={'class':'price-ship'})[0].text.strip().replace(\"Shipping\",\"\")[0:-1]\n",
    "    rating=result.find_all('a', attrs={'class':'item-rating'})[0]['title'][7:]\n",
    "    url=result.find('a')['href']\n",
    "    records.append((brand, title,price,shipping_price, rating, url))"
   ]
  },
  {
   "cell_type": "code",
   "execution_count": 40,
   "metadata": {},
   "outputs": [
    {
     "data": {
      "text/plain": [
       "12"
      ]
     },
     "execution_count": 40,
     "metadata": {},
     "output_type": "execute_result"
    }
   ],
   "source": [
    "len(records)"
   ]
  },
  {
   "cell_type": "code",
   "execution_count": 42,
   "metadata": {},
   "outputs": [
    {
     "data": {
      "text/plain": [
       "[('Asus',\n",
       "  'ASUS ROG Strix GeForce RTX 2080 Ti DirectX 12 ROG-STRIX-RTX2080TI-11G-GAMING 11GB 352-Bit GDDR6 PCI Express 3.0 HDCP Ready SLI Support Video Card',\n",
       "  '$1,259.99',\n",
       "  '$6.99',\n",
       "  '+ 4',\n",
       "  'https://www.newegg.com/asus-geforce-rtx-2080-ti-rog-strix-rtx2080ti-11g-gaming/p/N82E16814126080?Item=N82E16814126080'),\n",
       " ('Gigabyte',\n",
       "  'GIGABYTE Radeon RX 5600 XT DirectX 12 GV-R56XTGAMING OC-6G 6GB 192-Bit GDDR6 PCI Express 4.0 x16 ATX Video Card',\n",
       "  '$299',\n",
       "  '$3.99',\n",
       "  '+ 4',\n",
       "  'https://www.newegg.com/gigabyte-radeon-rx-5600-xt-gv-r56xtgaming-oc-6g/p/N82E16814932244?Item=N82E16814932244'),\n",
       " ('Msi',\n",
       "  'MSI GeForce GTX 1660 DirectX 12 GTX 1660 VENTUS XS 6G OC 6GB 192-Bit GDDR5 PCI Express 3.0 x16 HDCP Ready Video Card',\n",
       "  '$209.',\n",
       "  'Free',\n",
       "  '+ 5',\n",
       "  'https://www.newegg.com/msi-geforce-gtx-1660-gtx-1660-ventus-xs-6g-oc/p/N82E16814137400?Item=N82E16814137400')]"
      ]
     },
     "execution_count": 42,
     "metadata": {},
     "output_type": "execute_result"
    }
   ],
   "source": [
    "records[0:3]"
   ]
  },
  {
   "cell_type": "code",
   "execution_count": 43,
   "metadata": {},
   "outputs": [],
   "source": [
    "import pandas as pd\n",
    "df = pd.DataFrame(records, columns=['brand', 'title','price','shipping_price', 'rating', 'url'])"
   ]
  },
  {
   "cell_type": "code",
   "execution_count": 45,
   "metadata": {},
   "outputs": [
    {
     "data": {
      "text/html": [
       "<div>\n",
       "<style scoped>\n",
       "    .dataframe tbody tr th:only-of-type {\n",
       "        vertical-align: middle;\n",
       "    }\n",
       "\n",
       "    .dataframe tbody tr th {\n",
       "        vertical-align: top;\n",
       "    }\n",
       "\n",
       "    .dataframe thead th {\n",
       "        text-align: right;\n",
       "    }\n",
       "</style>\n",
       "<table border=\"1\" class=\"dataframe\">\n",
       "  <thead>\n",
       "    <tr style=\"text-align: right;\">\n",
       "      <th></th>\n",
       "      <th>brand</th>\n",
       "      <th>title</th>\n",
       "      <th>price</th>\n",
       "      <th>shipping_price</th>\n",
       "      <th>rating</th>\n",
       "      <th>url</th>\n",
       "    </tr>\n",
       "  </thead>\n",
       "  <tbody>\n",
       "    <tr>\n",
       "      <th>0</th>\n",
       "      <td>Asus</td>\n",
       "      <td>ASUS ROG Strix GeForce RTX 2080 Ti DirectX 12 ...</td>\n",
       "      <td>$1,259.99</td>\n",
       "      <td>$6.99</td>\n",
       "      <td>+ 4</td>\n",
       "      <td>https://www.newegg.com/asus-geforce-rtx-2080-t...</td>\n",
       "    </tr>\n",
       "    <tr>\n",
       "      <th>1</th>\n",
       "      <td>Gigabyte</td>\n",
       "      <td>GIGABYTE Radeon RX 5600 XT DirectX 12 GV-R56XT...</td>\n",
       "      <td>$299</td>\n",
       "      <td>$3.99</td>\n",
       "      <td>+ 4</td>\n",
       "      <td>https://www.newegg.com/gigabyte-radeon-rx-5600...</td>\n",
       "    </tr>\n",
       "    <tr>\n",
       "      <th>2</th>\n",
       "      <td>Msi</td>\n",
       "      <td>MSI GeForce GTX 1660 DirectX 12 GTX 1660 VENTU...</td>\n",
       "      <td>$209.</td>\n",
       "      <td>Free</td>\n",
       "      <td>+ 5</td>\n",
       "      <td>https://www.newegg.com/msi-geforce-gtx-1660-gt...</td>\n",
       "    </tr>\n",
       "    <tr>\n",
       "      <th>3</th>\n",
       "      <td>Evga</td>\n",
       "      <td>EVGA GeForce RTX 2060 KO ULTRA GAMING Video Ca...</td>\n",
       "      <td>$319</td>\n",
       "      <td>$3.99</td>\n",
       "      <td>+ 4</td>\n",
       "      <td>https://www.newegg.com/evga-geforce-rtx-2060-0...</td>\n",
       "    </tr>\n",
       "    <tr>\n",
       "      <th>4</th>\n",
       "      <td>Evga</td>\n",
       "      <td>EVGA GeForce RTX 2080 SUPER XC ULTRA GAMING Vi...</td>\n",
       "      <td>$759.</td>\n",
       "      <td>$3.99</td>\n",
       "      <td>+ 5</td>\n",
       "      <td>https://www.newegg.com/evga-geforce-rtx-2080-s...</td>\n",
       "    </tr>\n",
       "  </tbody>\n",
       "</table>\n",
       "</div>"
      ],
      "text/plain": [
       "      brand                                              title      price  \\\n",
       "0      Asus  ASUS ROG Strix GeForce RTX 2080 Ti DirectX 12 ...  $1,259.99   \n",
       "1  Gigabyte  GIGABYTE Radeon RX 5600 XT DirectX 12 GV-R56XT...       $299   \n",
       "2       Msi  MSI GeForce GTX 1660 DirectX 12 GTX 1660 VENTU...      $209.   \n",
       "3      Evga  EVGA GeForce RTX 2060 KO ULTRA GAMING Video Ca...       $319   \n",
       "4      Evga  EVGA GeForce RTX 2080 SUPER XC ULTRA GAMING Vi...      $759.   \n",
       "\n",
       "  shipping_price rating                                                url  \n",
       "0          $6.99    + 4  https://www.newegg.com/asus-geforce-rtx-2080-t...  \n",
       "1          $3.99    + 4  https://www.newegg.com/gigabyte-radeon-rx-5600...  \n",
       "2           Free    + 5  https://www.newegg.com/msi-geforce-gtx-1660-gt...  \n",
       "3          $3.99    + 4  https://www.newegg.com/evga-geforce-rtx-2060-0...  \n",
       "4          $3.99    + 5  https://www.newegg.com/evga-geforce-rtx-2080-s...  "
      ]
     },
     "execution_count": 45,
     "metadata": {},
     "output_type": "execute_result"
    }
   ],
   "source": [
    "df.head()"
   ]
  },
  {
   "cell_type": "code",
   "execution_count": 46,
   "metadata": {},
   "outputs": [],
   "source": [
    "df.to_csv('newegg.csv', index=False, encoding='utf-8')"
   ]
  },
  {
   "cell_type": "code",
   "execution_count": null,
   "metadata": {},
   "outputs": [],
   "source": []
  }
 ],
 "metadata": {
  "kernelspec": {
   "display_name": "Python 3",
   "language": "python",
   "name": "python3"
  },
  "language_info": {
   "codemirror_mode": {
    "name": "ipython",
    "version": 3
   },
   "file_extension": ".py",
   "mimetype": "text/x-python",
   "name": "python",
   "nbconvert_exporter": "python",
   "pygments_lexer": "ipython3",
   "version": "3.7.4"
  }
 },
 "nbformat": 4,
 "nbformat_minor": 2
}
