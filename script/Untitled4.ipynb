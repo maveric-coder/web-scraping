{
 "cells": [
  {
   "cell_type": "code",
   "execution_count": 1,
   "metadata": {},
   "outputs": [],
   "source": [
    "headers = {'User-Agent': 'Mozilla/5.0 (Windows NT 10.0; Win64; x64) AppleWebKit/537.36 (KHTML, like Gecko) Chrome/58.0.3029.110 Safari/537.3'}"
   ]
  },
  {
   "cell_type": "code",
   "execution_count": 2,
   "metadata": {},
   "outputs": [],
   "source": [
    "url ='https://www.amazon.in/s?k=smartphones&rh=n%3A976419031%2Cn%3A1805560031&dc&crid=2IS61GJ5X2ZAA&qid=1580724709&rnid=3576079031&sprefix=smart%2Caps%2C486&ref=sr_nr_n_2'"
   ]
  },
  {
   "cell_type": "code",
   "execution_count": 3,
   "metadata": {},
   "outputs": [],
   "source": [
    "import requests\n",
    "r = requests.get(url, headers=headers)"
   ]
  },
  {
   "cell_type": "code",
   "execution_count": 4,
   "metadata": {},
   "outputs": [],
   "source": [
    "from bs4 import BeautifulSoup\n",
    "soup = BeautifulSoup(r.text,'html.parser')"
   ]
  },
  {
   "cell_type": "code",
   "execution_count": 6,
   "metadata": {},
   "outputs": [],
   "source": [
    "results=soup.find_all('div', attrs={'class':'s-include-content-margin s-border-bottom'})"
   ]
  },
  {
   "cell_type": "code",
   "execution_count": 7,
   "metadata": {},
   "outputs": [
    {
     "data": {
      "text/plain": [
       "26"
      ]
     },
     "execution_count": 7,
     "metadata": {},
     "output_type": "execute_result"
    }
   ],
   "source": [
    "len(results)"
   ]
  },
  {
   "cell_type": "code",
   "execution_count": 38,
   "metadata": {},
   "outputs": [
    {
     "data": {
      "text/plain": [
       "<div class=\"s-include-content-margin s-border-bottom\">\n",
       "<div class=\"a-section a-spacing-medium\">\n",
       "<div class=\"sg-row\">\n",
       "<div class=\"a-section a-spacing-micro s-min-height-small\">\n",
       "<span aria-label=\"Amazon's Choice\">\n",
       "<a class=\"a-link-normal\" href=\"/Nokia-4-2-Black-32GB-Storage/dp/B07RY2NR8F/ref=ice_ac_b_dpb?crid=2IS61GJ5X2ZAA&amp;keywords=smartphones&amp;qid=1580724857&amp;rnid=3576079031&amp;s=electronics&amp;sprefix=smart%2Caps%2C486&amp;sr=1-4\">\n",
       "<span class=\"rush-component\" data-component-props='{\"badgeType\":\"amazons-choice\",\"asin\":\"B07RY2NR8F\"}' data-component-type=\"s-status-badge-component\">\n",
       "<div class=\"a-row a-badge-region\"><span aria-labelledby=\"B07RY2NR8F-amazons-choice-label B07RY2NR8F-amazons-choice-supplementary\" class=\"a-badge\" data-a-badge-supplementary-position=\"right\" data-a-badge-type=\"status\" id=\"B07RY2NR8F-amazons-choice\" tabindex=\"0\"><span aria-hidden=\"true\" class=\"a-badge-label\" data-a-badge-color=\"sx-gulfstream\" id=\"B07RY2NR8F-amazons-choice-label\"><span class=\"a-badge-label-inner a-text-ellipsis\">\n",
       "<span class=\"a-badge-text\" data-a-badge-color=\"sx-cloud\">Amazon's </span>\n",
       "<span class=\"a-badge-text\" data-a-badge-color=\"ac-orange\">Choice</span>\n",
       "</span></span><span aria-hidden=\"true\" class=\"a-badge-supplementary-text a-text-ellipsis\" id=\"B07RY2NR8F-amazons-choice-supplementary\">for \"smartphones\"</span></span></div>\n",
       "</span>\n",
       "</a>\n",
       "</span>\n",
       "</div>\n",
       "</div>\n",
       "<div class=\"sg-row\">\n",
       "<div class=\"sg-col-4-of-24 sg-col-4-of-12 sg-col-4-of-36 sg-col-4-of-28 sg-col-4-of-16 sg-col sg-col-4-of-20 sg-col-4-of-32\"><div class=\"sg-col-inner\">\n",
       "<div class=\"a-section a-spacing-none\">\n",
       "<span class=\"rush-component\" data-component-type=\"s-product-image\">\n",
       "<a class=\"a-link-normal\" href=\"/Nokia-4-2-Black-32GB-Storage/dp/B07RY2NR8F/ref=sr_1_4?crid=2IS61GJ5X2ZAA&amp;keywords=smartphones&amp;qid=1580724857&amp;rnid=3576079031&amp;s=electronics&amp;sprefix=smart%2Caps%2C486&amp;sr=1-4\" target=\"_blank\">\n",
       "<div class=\"a-section aok-relative s-image-fixed-height\">\n",
       "<img alt=\"Nokia 4.2 (Black, 3GB RAM, 32GB Storage)\" class=\"s-image\" data-image-index=\"4\" data-image-latency=\"s-product-image\" data-image-load=\"\" data-image-source-density=\"1\" src=\"https://m.media-amazon.com/images/I/81YTUmk8zCL._AC_UY218_ML3_.jpg\" srcset=\"https://m.media-amazon.com/images/I/81YTUmk8zCL._AC_UY218_ML3_.jpg 1x, https://m.media-amazon.com/images/I/81YTUmk8zCL._AC_UY327_QL65_ML3_.jpg 1.5x, https://m.media-amazon.com/images/I/81YTUmk8zCL._AC_UY436_QL65_ML3_.jpg 2x, https://m.media-amazon.com/images/I/81YTUmk8zCL._AC_UY545_QL65_ML3_.jpg 2.5x, https://m.media-amazon.com/images/I/81YTUmk8zCL._AC_UY654_QL65_ML3_.jpg 3x\"/>\n",
       "</div>\n",
       "</a>\n",
       "</span>\n",
       "</div>\n",
       "</div></div>\n",
       "<div class=\"sg-col-4-of-12 sg-col-8-of-16 sg-col-16-of-24 sg-col-12-of-20 sg-col-24-of-32 sg-col sg-col-28-of-36 sg-col-20-of-28\"><div class=\"sg-col-inner\">\n",
       "<div class=\"sg-row\">\n",
       "<div class=\"sg-col-4-of-12 sg-col-8-of-16 sg-col-12-of-32 sg-col-12-of-20 sg-col-12-of-36 sg-col sg-col-12-of-24 sg-col-12-of-28\"><div class=\"sg-col-inner\">\n",
       "<div class=\"a-section a-spacing-none\">\n",
       "<h2 class=\"a-size-mini a-spacing-none a-color-base s-line-clamp-2\">\n",
       "<a class=\"a-link-normal a-text-normal\" href=\"/Nokia-4-2-Black-32GB-Storage/dp/B07RY2NR8F/ref=sr_1_4?crid=2IS61GJ5X2ZAA&amp;keywords=smartphones&amp;qid=1580724857&amp;rnid=3576079031&amp;s=electronics&amp;sprefix=smart%2Caps%2C486&amp;sr=1-4\" target=\"_blank\">\n",
       "<span class=\"a-size-medium a-color-base a-text-normal\">Nokia 4.2 (Black, 3GB RAM, 32GB Storage)</span>\n",
       "</a>\n",
       "</h2>\n",
       "</div>\n",
       "<div class=\"a-section a-spacing-none a-spacing-top-micro\">\n",
       "<div class=\"a-row a-size-small\">\n",
       "<span aria-label=\"3.8 out of 5 stars\">\n",
       "<span class=\"a-declarative\" data-a-popover='{\"max-width\":\"700\",\"closeButton\":false,\"position\":\"triggerBottom\",\"url\":\"/review/widgets/average-customer-review/popover/ref=acr_search__popover?ie=UTF8&amp;asin=B07RY2NR8F&amp;ref=acr_search__popover&amp;contextId=search\"}' data-action=\"a-popover\">\n",
       "<a class=\"a-popover-trigger a-declarative\" href=\"javascript:void(0)\"><i class=\"a-icon a-icon-star-small a-star-small-4 aok-align-bottom\"><span class=\"a-icon-alt\">3.8 out of 5 stars</span></i><i class=\"a-icon a-icon-popover\"></i></a>\n",
       "</span>\n",
       "</span>\n",
       "<span aria-label=\"1,181\">\n",
       "<a class=\"a-link-normal\" href=\"/Nokia-4-2-Black-32GB-Storage/dp/B07RY2NR8F/ref=sr_1_4?crid=2IS61GJ5X2ZAA&amp;keywords=smartphones&amp;qid=1580724857&amp;rnid=3576079031&amp;s=electronics&amp;sprefix=smart%2Caps%2C486&amp;sr=1-4#customerReviews\" target=\"_blank\">\n",
       "<span class=\"a-size-base\">1,181</span>\n",
       "</a>\n",
       "</span>\n",
       "</div>\n",
       "</div>\n",
       "</div></div>\n",
       "</div>\n",
       "<div class=\"sg-row\">\n",
       "<div class=\"sg-col-4-of-24 sg-col-4-of-12 sg-col-4-of-36 sg-col-4-of-28 sg-col-4-of-16 sg-col sg-col-4-of-20 sg-col-4-of-32\"><div class=\"sg-col-inner\">\n",
       "<div class=\"a-section a-spacing-none a-spacing-top-small\">\n",
       "<div class=\"a-row a-size-base a-color-base\"><div class=\"a-row\">\n",
       "<a class=\"a-size-base a-link-normal s-no-hover a-text-normal\" href=\"/Nokia-4-2-Black-32GB-Storage/dp/B07RY2NR8F/ref=sr_1_4?crid=2IS61GJ5X2ZAA&amp;keywords=smartphones&amp;qid=1580724857&amp;rnid=3576079031&amp;s=electronics&amp;sprefix=smart%2Caps%2C486&amp;sr=1-4\" target=\"_blank\">\n",
       "<span class=\"a-price\" data-a-color=\"price\" data-a-size=\"l\"><span class=\"a-offscreen\">₹6,718</span><span aria-hidden=\"true\"><span class=\"a-price-symbol\">₹</span><span class=\"a-price-whole\">6,718</span></span></span>\n",
       "<span class=\"a-price a-text-price\" data-a-color=\"secondary\" data-a-size=\"b\" data-a-strike=\"true\"><span class=\"a-offscreen\">₹12,999</span><span aria-hidden=\"true\">₹12,999</span></span>\n",
       "</a>\n",
       "<span class=\"a-letter-space\"></span><span>Save ₹6,281 (48%)</span><span class=\"a-letter-space\"></span></div></div>\n",
       "</div>\n",
       "<div class=\"a-section a-spacing-none a-spacing-top-micro\">\n",
       "<div class=\"a-row a-size-base a-color-secondary s-align-children-center\"><div class=\"a-row s-align-children-center\">\n",
       "<span class=\"aok-inline-block s-image-logo-view\">\n",
       "<span class=\"aok-relative s-icon-text-medium s-prime\">\n",
       "<i aria-label=\"Amazon Prime\" class=\"a-icon a-icon-prime a-icon-medium\" role=\"img\"></i>\n",
       "</span>\n",
       "<span>\n",
       "</span>\n",
       "</span>\n",
       "</div><div class=\"a-row\">\n",
       "<span aria-label=\"FREE Delivery by Amazon\">\n",
       "<span>FREE Delivery by Amazon</span>\n",
       "</span>\n",
       "</div></div>\n",
       "</div>\n",
       "</div></div>\n",
       "<div class=\"sg-col-4-of-12 sg-col-8-of-28 sg-col-4-of-16 sg-col-8-of-32 sg-col sg-col-8-of-20 sg-col-8-of-36 sg-col-8-of-24\"><div class=\"sg-col-inner\">\n",
       "</div></div>\n",
       "</div>\n",
       "<div class=\"sg-row\">\n",
       "<div class=\"sg-col-20-of-24 sg-col-28-of-32 sg-col-16-of-20 sg-col sg-col-32-of-36 sg-col-8-of-12 sg-col-12-of-16 sg-col-24-of-28\"><div class=\"sg-col-inner\">\n",
       "</div></div>\n",
       "</div>\n",
       "<div class=\"sg-row\">\n",
       "<div class=\"sg-col-20-of-24 sg-col-28-of-32 sg-col-16-of-20 sg-col sg-col-32-of-36 sg-col-8-of-12 sg-col-12-of-16 sg-col-24-of-28\"><div class=\"sg-col-inner\">\n",
       "</div></div>\n",
       "</div>\n",
       "</div></div>\n",
       "</div>\n",
       "</div>\n",
       "</div>"
      ]
     },
     "execution_count": 38,
     "metadata": {},
     "output_type": "execute_result"
    }
   ],
   "source": [
    "results[3]"
   ]
  },
  {
   "cell_type": "code",
   "execution_count": 39,
   "metadata": {},
   "outputs": [],
   "source": [
    "first_result = results[2]"
   ]
  },
  {
   "cell_type": "code",
   "execution_count": 37,
   "metadata": {},
   "outputs": [
    {
     "ename": "TypeError",
     "evalue": "'NoneType' object is not subscriptable",
     "output_type": "error",
     "traceback": [
      "\u001b[1;31m---------------------------------------------------------------------------\u001b[0m",
      "\u001b[1;31mTypeError\u001b[0m                                 Traceback (most recent call last)",
      "\u001b[1;32m<ipython-input-37-ea0cd273736b>\u001b[0m in \u001b[0;36m<module>\u001b[1;34m\u001b[0m\n\u001b[0;32m      1\u001b[0m \u001b[1;31m##          title\u001b[0m\u001b[1;33m\u001b[0m\u001b[1;33m\u001b[0m\u001b[1;33m\u001b[0m\u001b[0m\n\u001b[1;32m----> 2\u001b[1;33m \u001b[0mfirst_result\u001b[0m\u001b[1;33m.\u001b[0m\u001b[0mfind\u001b[0m\u001b[1;33m(\u001b[0m\u001b[1;34m'a'\u001b[0m\u001b[1;33m)\u001b[0m\u001b[1;33m.\u001b[0m\u001b[0mimg\u001b[0m\u001b[1;33m[\u001b[0m\u001b[1;34m'alt'\u001b[0m\u001b[1;33m]\u001b[0m\u001b[1;33m\u001b[0m\u001b[1;33m\u001b[0m\u001b[0m\n\u001b[0m",
      "\u001b[1;31mTypeError\u001b[0m: 'NoneType' object is not subscriptable"
     ]
    }
   ],
   "source": [
    "##          title\n",
    "first_result.find('a').img['alt']"
   ]
  },
  {
   "cell_type": "code",
   "execution_count": 12,
   "metadata": {},
   "outputs": [
    {
     "data": {
      "text/plain": [
       "'/gp/slredirect/picassoRedirect.html/ref=pa_sp_atf_electronics_sr_pg1_1?ie=UTF8&adId=A014031238OXU5OVTV61Q&url=%2FSamsung-Galaxy-Storage-Additional-Exchange%2Fdp%2FB07PSHQ8LY%2Fref%3Dsr_1_1_sspa%3Fcrid%3D2IS61GJ5X2ZAA%26keywords%3Dsmartphones%26qid%3D1580724857%26rnid%3D3576079031%26s%3Delectronics%26sprefix%3Dsmart%252Caps%252C486%26sr%3D1-1-spons%26psc%3D1&qualifier=1580724857&id=3206131637529167&widgetName=sp_atf'"
      ]
     },
     "execution_count": 12,
     "metadata": {},
     "output_type": "execute_result"
    }
   ],
   "source": [
    "##                 url\n",
    "\n",
    "first_result.find('a')['href']"
   ]
  },
  {
   "cell_type": "code",
   "execution_count": 14,
   "metadata": {},
   "outputs": [
    {
     "data": {
      "text/plain": [
       "'₹79,999'"
      ]
     },
     "execution_count": 14,
     "metadata": {},
     "output_type": "execute_result"
    }
   ],
   "source": [
    "##    price\n",
    "\n",
    "first_result.find_all('span', attrs={'class':'a-offscreen'})[0].text.strip()"
   ]
  },
  {
   "cell_type": "code",
   "execution_count": 15,
   "metadata": {},
   "outputs": [
    {
     "data": {
      "text/plain": [
       "'FREE Delivery by Amazon'"
      ]
     },
     "execution_count": 15,
     "metadata": {},
     "output_type": "execute_result"
    }
   ],
   "source": [
    "#### delivery charges\n",
    "\n",
    "first_result.find_all('span', attrs={'aria-label':'FREE Delivery by Amazon'})[0].text.strip()"
   ]
  },
  {
   "cell_type": "code",
   "execution_count": 17,
   "metadata": {},
   "outputs": [
    {
     "data": {
      "text/plain": [
       "'4.7 out of 5 stars'"
      ]
     },
     "execution_count": 17,
     "metadata": {},
     "output_type": "execute_result"
    }
   ],
   "source": [
    "####  ratings\n",
    "\n",
    "first_result.find_all('span', attrs={'class':'a-icon-alt'})[0].text.strip()"
   ]
  },
  {
   "cell_type": "code",
   "execution_count": 23,
   "metadata": {},
   "outputs": [
    {
     "ename": "TypeError",
     "evalue": "'NoneType' object is not subscriptable",
     "output_type": "error",
     "traceback": [
      "\u001b[1;31m---------------------------------------------------------------------------\u001b[0m",
      "\u001b[1;31mTypeError\u001b[0m                                 Traceback (most recent call last)",
      "\u001b[1;32m<ipython-input-23-9def5b9186ff>\u001b[0m in \u001b[0;36m<module>\u001b[1;34m\u001b[0m\n\u001b[0;32m      1\u001b[0m \u001b[0mrecords\u001b[0m \u001b[1;33m=\u001b[0m \u001b[1;33m[\u001b[0m\u001b[1;33m]\u001b[0m\u001b[1;33m\u001b[0m\u001b[1;33m\u001b[0m\u001b[0m\n\u001b[0;32m      2\u001b[0m \u001b[1;32mfor\u001b[0m \u001b[0mresult\u001b[0m \u001b[1;32min\u001b[0m \u001b[0mresults\u001b[0m\u001b[1;33m:\u001b[0m\u001b[1;33m\u001b[0m\u001b[1;33m\u001b[0m\u001b[0m\n\u001b[1;32m----> 3\u001b[1;33m     \u001b[0mtitle\u001b[0m \u001b[1;33m=\u001b[0m \u001b[0mresult\u001b[0m\u001b[1;33m.\u001b[0m\u001b[0mfind\u001b[0m\u001b[1;33m(\u001b[0m\u001b[1;34m'a'\u001b[0m\u001b[1;33m)\u001b[0m\u001b[1;33m.\u001b[0m\u001b[0mimg\u001b[0m\u001b[1;33m[\u001b[0m\u001b[1;34m'alt'\u001b[0m\u001b[1;33m]\u001b[0m\u001b[1;33m\u001b[0m\u001b[1;33m\u001b[0m\u001b[0m\n\u001b[0m\u001b[0;32m      4\u001b[0m     \u001b[0mprice\u001b[0m \u001b[1;33m=\u001b[0m \u001b[0mresult\u001b[0m\u001b[1;33m.\u001b[0m\u001b[0mfind_all\u001b[0m\u001b[1;33m(\u001b[0m\u001b[1;34m'span'\u001b[0m\u001b[1;33m,\u001b[0m \u001b[0mattrs\u001b[0m\u001b[1;33m=\u001b[0m\u001b[1;33m{\u001b[0m\u001b[1;34m'class'\u001b[0m\u001b[1;33m:\u001b[0m\u001b[1;34m'a-offscreen'\u001b[0m\u001b[1;33m}\u001b[0m\u001b[1;33m)\u001b[0m\u001b[1;33m[\u001b[0m\u001b[1;36m0\u001b[0m\u001b[1;33m]\u001b[0m\u001b[1;33m.\u001b[0m\u001b[0mtext\u001b[0m\u001b[1;33m.\u001b[0m\u001b[0mstrip\u001b[0m\u001b[1;33m(\u001b[0m\u001b[1;33m)\u001b[0m\u001b[1;33m\u001b[0m\u001b[1;33m\u001b[0m\u001b[0m\n\u001b[0;32m      5\u001b[0m     \u001b[0mshipping_price\u001b[0m \u001b[1;33m=\u001b[0m \u001b[0mresult\u001b[0m\u001b[1;33m.\u001b[0m\u001b[0mfind_all\u001b[0m\u001b[1;33m(\u001b[0m\u001b[1;34m'span'\u001b[0m\u001b[1;33m,\u001b[0m \u001b[0mattrs\u001b[0m\u001b[1;33m=\u001b[0m\u001b[1;33m{\u001b[0m\u001b[1;34m'aria-label'\u001b[0m\u001b[1;33m:\u001b[0m\u001b[1;34m'FREE Delivery by Amazon'\u001b[0m\u001b[1;33m}\u001b[0m\u001b[1;33m)\u001b[0m\u001b[1;33m[\u001b[0m\u001b[1;36m0\u001b[0m\u001b[1;33m]\u001b[0m\u001b[1;33m.\u001b[0m\u001b[0mtext\u001b[0m\u001b[1;33m.\u001b[0m\u001b[0mstrip\u001b[0m\u001b[1;33m(\u001b[0m\u001b[1;33m)\u001b[0m\u001b[1;33m\u001b[0m\u001b[1;33m\u001b[0m\u001b[0m\n",
      "\u001b[1;31mTypeError\u001b[0m: 'NoneType' object is not subscriptable"
     ]
    }
   ],
   "source": [
    "records = []\n",
    "for result in results:\n",
    "    title = result.find('a').img['alt']\n",
    "    price = result.find_all('span', attrs={'class':'a-offscreen'})[0].text.strip()\n",
    "    shipping_price = result.find_all('span', attrs={'aria-label':'FREE Delivery by Amazon'})[0].text.strip()\n",
    "    rating=result.find_all('span', attrs={'class':'a-icon-alt'})[0].text.strip()\n",
    "    url=result.find('a')['href']\n",
    "    records.append((title,price,shipping_price, rating, url))"
   ]
  },
  {
   "cell_type": "code",
   "execution_count": null,
   "metadata": {},
   "outputs": [],
   "source": []
  }
 ],
 "metadata": {
  "kernelspec": {
   "display_name": "Python 3",
   "language": "python",
   "name": "python3"
  },
  "language_info": {
   "codemirror_mode": {
    "name": "ipython",
    "version": 3
   },
   "file_extension": ".py",
   "mimetype": "text/x-python",
   "name": "python",
   "nbconvert_exporter": "python",
   "pygments_lexer": "ipython3",
   "version": "3.7.4"
  }
 },
 "nbformat": 4,
 "nbformat_minor": 2
}
