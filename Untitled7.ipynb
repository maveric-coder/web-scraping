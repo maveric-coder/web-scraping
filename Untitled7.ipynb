{
 "cells": [
  {
   "cell_type": "code",
   "execution_count": 1,
   "metadata": {},
   "outputs": [],
   "source": [
    "headers = {'User-Agent': 'Mozilla/5.0 (Windows NT 10.0; Win64; x64) AppleWebKit/537.36 (KHTML, like Gecko) Chrome/58.0.3029.110 Safari/537.3'}\n"
   ]
  },
  {
   "cell_type": "code",
   "execution_count": 2,
   "metadata": {},
   "outputs": [],
   "source": [
    "url='https://www.amazon.in/s?k=hair+clips+for+womens&ref=nb_sb_noss_1'"
   ]
  },
  {
   "cell_type": "code",
   "execution_count": 3,
   "metadata": {},
   "outputs": [],
   "source": [
    "import requests\n",
    "r = requests.get(url, headers=headers)"
   ]
  },
  {
   "cell_type": "code",
   "execution_count": 4,
   "metadata": {},
   "outputs": [],
   "source": [
    "from bs4 import BeautifulSoup\n",
    "soup = BeautifulSoup(r.text,'html.parser')"
   ]
  },
  {
   "cell_type": "code",
   "execution_count": null,
   "metadata": {},
   "outputs": [],
   "source": []
  },
  {
   "cell_type": "code",
   "execution_count": 50,
   "metadata": {},
   "outputs": [],
   "source": [
    "results=soup.find_all('div', attrs={'class':'s-expand-height s-include-content-margin s-border-bottom'})"
   ]
  },
  {
   "cell_type": "code",
   "execution_count": 51,
   "metadata": {},
   "outputs": [
    {
     "data": {
      "text/plain": [
       "56"
      ]
     },
     "execution_count": 51,
     "metadata": {},
     "output_type": "execute_result"
    }
   ],
   "source": [
    "len(results)"
   ]
  },
  {
   "cell_type": "code",
   "execution_count": null,
   "metadata": {},
   "outputs": [],
   "source": []
  },
  {
   "cell_type": "raw",
   "metadata": {},
   "source": []
  },
  {
   "cell_type": "code",
   "execution_count": 53,
   "metadata": {},
   "outputs": [],
   "source": [
    "first_result = results[0]"
   ]
  },
  {
   "cell_type": "code",
   "execution_count": 54,
   "metadata": {},
   "outputs": [
    {
     "data": {
      "text/plain": [
       "'Yumi® Black Hair Clips for Women (Inside Assured Gift for You)'"
      ]
     },
     "execution_count": 54,
     "metadata": {},
     "output_type": "execute_result"
    }
   ],
   "source": [
    "######################## name\n",
    "first_result.find('span',{'class':'a-size-base-plus a-color-base a-text-normal'}).text"
   ]
  },
  {
   "cell_type": "code",
   "execution_count": 225,
   "metadata": {},
   "outputs": [
    {
     "data": {
      "text/plain": [
       "<div class=\"s-expand-height s-include-content-margin s-border-bottom\">\n",
       "<div class=\"a-section a-spacing-medium\">\n",
       "<div class=\"a-section a-spacing-micro s-grid-status-badge-container\">\n",
       "</div>\n",
       "<span class=\"rush-component\" data-component-type=\"s-product-image\">\n",
       "<a class=\"a-link-normal\" href=\"/Ziory-Half-balloon-Rhinestone-partywear-accessories/dp/B07MZY94VR/ref=sr_1_6?dchild=1&amp;keywords=hair+clips+for+women&amp;qid=1583742904&amp;sr=8-6\" target=\"_blank\">\n",
       "<div class=\"a-section aok-relative s-image-square-aspect\">\n",
       "<img alt=\"Ziory 1 Pc Red Half-balloon Hair Clip Rhinestone Hairpin Girls Hair Claws Hair Bun Holders partywear stylish elegant hair accessories for girls and women\" class=\"s-image\" data-image-index=\"5\" data-image-latency=\"s-product-image\" data-image-load=\"\" data-image-source-density=\"1\" src=\"https://m.media-amazon.com/images/I/61mRXoHaP9L._AC_UL320_ML3_.jpg\" srcset=\"https://m.media-amazon.com/images/I/61mRXoHaP9L._AC_UL320_ML3_.jpg 1x, https://m.media-amazon.com/images/I/61mRXoHaP9L._AC_UL480_QL65_ML3_.jpg 1.5x, https://m.media-amazon.com/images/I/61mRXoHaP9L._AC_UL640_QL65_ML3_.jpg 2x, https://m.media-amazon.com/images/I/61mRXoHaP9L._AC_UL800_QL65_ML3_.jpg 2.5x, https://m.media-amazon.com/images/I/61mRXoHaP9L._AC_UL960_QL65_ML3_.jpg 3x\"/>\n",
       "</div>\n",
       "</a>\n",
       "</span>\n",
       "<div class=\"a-section a-spacing-none a-spacing-top-small\">\n",
       "<h2 class=\"a-size-mini a-spacing-none a-color-base s-line-clamp-4\">\n",
       "<a class=\"a-link-normal a-text-normal\" href=\"/Ziory-Half-balloon-Rhinestone-partywear-accessories/dp/B07MZY94VR/ref=sr_1_6?dchild=1&amp;keywords=hair+clips+for+women&amp;qid=1583742904&amp;sr=8-6\" target=\"_blank\">\n",
       "<span class=\"a-size-base-plus a-color-base a-text-normal\">Ziory 1 Pc Red Half-balloon Hair Clip Rhinestone Hairpin Girls Hair Claws Hair Bun Holders partywear stylish elegant hair accessories for girls and women</span>\n",
       "</a>\n",
       "</h2>\n",
       "</div>\n",
       "<div class=\"a-section a-spacing-none a-spacing-top-micro\">\n",
       "<div class=\"a-row a-size-small\">\n",
       "<span aria-label=\"3.2 out of 5 stars\">\n",
       "<span class=\"a-declarative\" data-a-popover='{\"max-width\":\"700\",\"closeButton\":false,\"position\":\"triggerBottom\",\"url\":\"/review/widgets/average-customer-review/popover/ref=acr_search__popover?ie=UTF8&amp;asin=B07MZY94VR&amp;ref=acr_search__popover&amp;contextId=search\"}' data-action=\"a-popover\">\n",
       "<a class=\"a-popover-trigger a-declarative\" href=\"javascript:void(0)\"><i class=\"a-icon a-icon-star-small a-star-small-3 aok-align-bottom\"><span class=\"a-icon-alt\">3.2 out of 5 stars</span></i><i class=\"a-icon a-icon-popover\"></i></a>\n",
       "</span>\n",
       "</span>\n",
       "<span aria-label=\"34\">\n",
       "<a class=\"a-link-normal\" href=\"/Ziory-Half-balloon-Rhinestone-partywear-accessories/dp/B07MZY94VR/ref=sr_1_6?dchild=1&amp;keywords=hair+clips+for+women&amp;qid=1583742904&amp;sr=8-6#customerReviews\" target=\"_blank\">\n",
       "<span class=\"a-size-base\">34</span>\n",
       "</a>\n",
       "</span>\n",
       "</div>\n",
       "</div>\n",
       "<div class=\"a-section a-spacing-none a-spacing-top-small\">\n",
       "<div class=\"a-row a-size-base a-color-base\"><div class=\"a-row\">\n",
       "<a class=\"a-size-base a-link-normal s-no-hover a-text-normal\" href=\"/Ziory-Half-balloon-Rhinestone-partywear-accessories/dp/B07MZY94VR/ref=sr_1_6?dchild=1&amp;keywords=hair+clips+for+women&amp;qid=1583742904&amp;sr=8-6\" target=\"_blank\">\n",
       "<span class=\"a-price\" data-a-color=\"price\" data-a-size=\"l\"><span class=\"a-offscreen\">₹399</span><span aria-hidden=\"true\"><span class=\"a-price-symbol\">₹</span><span class=\"a-price-whole\">399</span></span></span>\n",
       "<span class=\"a-price a-text-price\" data-a-color=\"secondary\" data-a-size=\"b\" data-a-strike=\"true\"><span class=\"a-offscreen\">₹599</span><span aria-hidden=\"true\">₹599</span></span>\n",
       "</a>\n",
       "<span class=\"a-letter-space\"></span><span>Save ₹200 (33%)</span></div></div>\n",
       "</div>\n",
       "<div class=\"a-section a-spacing-none a-spacing-top-micro\">\n",
       "<div class=\"a-row a-size-base a-color-secondary s-align-children-center\"><div class=\"a-row s-align-children-center\">\n",
       "<span aria-label=\"Get it by Wednesday, March 11\">\n",
       "<span>Get it by </span><span class=\"a-text-bold\">Wednesday, March 11</span>\n",
       "</span>\n",
       "</div></div>\n",
       "</div>\n",
       "</div>\n",
       "</div>"
      ]
     },
     "execution_count": 225,
     "metadata": {},
     "output_type": "execute_result"
    }
   ],
   "source": [
    "first_result=results[5]\n",
    "first_result\n",
    "#first_result.find('span',{'class':'a-icon-alt'}).text"
   ]
  },
  {
   "cell_type": "code",
   "execution_count": 59,
   "metadata": {},
   "outputs": [
    {
     "data": {
      "text/plain": [
       "'₹399'"
      ]
     },
     "execution_count": 59,
     "metadata": {},
     "output_type": "execute_result"
    }
   ],
   "source": [
    "########## discount price\n",
    "first_result.find_all('span',{'class':'a-offscreen'})[0].text"
   ]
  },
  {
   "cell_type": "code",
   "execution_count": 63,
   "metadata": {},
   "outputs": [
    {
     "data": {
      "text/plain": [
       "'₹499'"
      ]
     },
     "execution_count": 63,
     "metadata": {},
     "output_type": "execute_result"
    }
   ],
   "source": [
    "################ original price\n",
    "\n",
    "first_result.find_all('span',{'class':'a-offscreen'})[1].text"
   ]
  },
  {
   "cell_type": "code",
   "execution_count": 64,
   "metadata": {},
   "outputs": [
    {
     "data": {
      "text/plain": [
       "'https://www.amazon.in/gp/slredirect/picassoRedirect.html/ref=pa_sp_atf_aps_sr_pg1_1?ie=UTF8&adId=A05967671WGMBWXPWFGWF&url=%2FYumi-Hair-Clips-Black-8Cm%2Fdp%2FB011754WIM%2Fref%3Dsr_1_1_sspa%3Fkeywords%3Dhair%2Bclips%2Bfor%2Bwomen%26qid%3D1583742904%26sr%3D8-1-spons%26psc%3D1&qualifier=1583742904&id=8576053277791716&widgetName=sp_atf'"
      ]
     },
     "execution_count": 64,
     "metadata": {},
     "output_type": "execute_result"
    }
   ],
   "source": [
    "'https://www.amazon.in'+first_result.find('a')['href']"
   ]
  },
  {
   "cell_type": "code",
   "execution_count": 72,
   "metadata": {},
   "outputs": [],
   "source": []
  },
  {
   "cell_type": "code",
   "execution_count": 239,
   "metadata": {},
   "outputs": [
    {
     "ename": "AttributeError",
     "evalue": "'NoneType' object has no attribute 'text'",
     "output_type": "error",
     "traceback": [
      "\u001b[1;31m---------------------------------------------------------------------------\u001b[0m",
      "\u001b[1;31mAttributeError\u001b[0m                            Traceback (most recent call last)",
      "\u001b[1;32m<ipython-input-239-d955dbb6cea2>\u001b[0m in \u001b[0;36m<module>\u001b[1;34m\u001b[0m\n\u001b[0;32m      1\u001b[0m \u001b[0mfirst_result\u001b[0m\u001b[1;33m=\u001b[0m\u001b[0mresults\u001b[0m\u001b[1;33m[\u001b[0m\u001b[1;36m2\u001b[0m\u001b[1;33m]\u001b[0m\u001b[1;33m\u001b[0m\u001b[1;33m\u001b[0m\u001b[0m\n\u001b[1;32m----> 2\u001b[1;33m \u001b[1;32mif\u001b[0m\u001b[1;33m(\u001b[0m\u001b[0misinstance\u001b[0m\u001b[1;33m(\u001b[0m\u001b[0mfirst_result\u001b[0m\u001b[1;33m.\u001b[0m\u001b[0mfind\u001b[0m\u001b[1;33m(\u001b[0m\u001b[1;34m'span'\u001b[0m\u001b[1;33m,\u001b[0m\u001b[1;33m{\u001b[0m\u001b[1;34m'class'\u001b[0m\u001b[1;33m:\u001b[0m\u001b[1;34m'a-icon-alt'\u001b[0m\u001b[1;33m}\u001b[0m\u001b[1;33m)\u001b[0m\u001b[1;33m.\u001b[0m\u001b[0mtext\u001b[0m\u001b[1;33m,\u001b[0m\u001b[0mstr\u001b[0m\u001b[1;33m)\u001b[0m\u001b[1;33m)\u001b[0m\u001b[1;33m:\u001b[0m\u001b[1;33m\u001b[0m\u001b[1;33m\u001b[0m\u001b[0m\n\u001b[0m\u001b[0;32m      3\u001b[0m     \u001b[0mprint\u001b[0m\u001b[1;33m(\u001b[0m\u001b[1;34m'yes'\u001b[0m\u001b[1;33m)\u001b[0m\u001b[1;33m\u001b[0m\u001b[1;33m\u001b[0m\u001b[0m\n\u001b[0;32m      4\u001b[0m \u001b[1;32melse\u001b[0m\u001b[1;33m:\u001b[0m\u001b[1;33m\u001b[0m\u001b[1;33m\u001b[0m\u001b[0m\n\u001b[0;32m      5\u001b[0m     \u001b[0mprint\u001b[0m\u001b[1;33m(\u001b[0m\u001b[1;34m'no'\u001b[0m\u001b[1;33m)\u001b[0m\u001b[1;33m\u001b[0m\u001b[1;33m\u001b[0m\u001b[0m\n",
      "\u001b[1;31mAttributeError\u001b[0m: 'NoneType' object has no attribute 'text'"
     ]
    }
   ],
   "source": []
  },
  {
   "cell_type": "code",
   "execution_count": 279,
   "metadata": {},
   "outputs": [],
   "source": [
    "def rate(r):\n",
    "    try:\n",
    "        if (isinstance(r.find('span',{'class':'a-icon-alt'}).text,str)) != True :\n",
    "            raise ZeroDivisionError\n",
    "    except AttributeError:\n",
    "            return 'No ratings available'\n",
    " \n",
    "    else:\n",
    "        return r.find('span',{'class':'a-icon-alt'}).text\n",
    "     \n",
    "    "
   ]
  },
  {
   "cell_type": "code",
   "execution_count": 280,
   "metadata": {},
   "outputs": [
    {
     "data": {
      "text/plain": [
       "'No ratings available'"
      ]
     },
     "execution_count": 280,
     "metadata": {},
     "output_type": "execute_result"
    }
   ],
   "source": [
    "first_result=results[2]\n",
    "rate(first_result)"
   ]
  },
  {
   "cell_type": "code",
   "execution_count": 264,
   "metadata": {},
   "outputs": [
    {
     "data": {
      "text/plain": [
       "0"
      ]
     },
     "execution_count": 264,
     "metadata": {},
     "output_type": "execute_result"
    }
   ],
   "source": []
  },
  {
   "cell_type": "code",
   "execution_count": 270,
   "metadata": {},
   "outputs": [],
   "source": [
    "\n",
    "    "
   ]
  },
  {
   "cell_type": "code",
   "execution_count": 274,
   "metadata": {},
   "outputs": [
    {
     "ename": "AttributeError",
     "evalue": "'NoneType' object has no attribute 'text'",
     "output_type": "error",
     "traceback": [
      "\u001b[1;31m---------------------------------------------------------------------------\u001b[0m",
      "\u001b[1;31mAttributeError\u001b[0m                            Traceback (most recent call last)",
      "\u001b[1;32m<ipython-input-274-40002266879b>\u001b[0m in \u001b[0;36m<module>\u001b[1;34m\u001b[0m\n\u001b[0;32m      1\u001b[0m \u001b[0mfirst_result\u001b[0m\u001b[1;33m=\u001b[0m\u001b[0mresults\u001b[0m\u001b[1;33m[\u001b[0m\u001b[1;36m3\u001b[0m\u001b[1;33m]\u001b[0m\u001b[1;33m\u001b[0m\u001b[1;33m\u001b[0m\u001b[0m\n\u001b[1;32m----> 2\u001b[1;33m \u001b[0mrate\u001b[0m\u001b[1;33m(\u001b[0m\u001b[0mfirst_result\u001b[0m\u001b[1;33m)\u001b[0m\u001b[1;33m\u001b[0m\u001b[1;33m\u001b[0m\u001b[0m\n\u001b[0m",
      "\u001b[1;32m<ipython-input-270-16368b42c752>\u001b[0m in \u001b[0;36mrate\u001b[1;34m(r)\u001b[0m\n\u001b[0;32m      6\u001b[0m     \u001b[1;32melse\u001b[0m\u001b[1;33m:\u001b[0m\u001b[1;33m\u001b[0m\u001b[1;33m\u001b[0m\u001b[0m\n\u001b[0;32m      7\u001b[0m         \u001b[0mi\u001b[0m\u001b[1;33m=\u001b[0m\u001b[0mi\u001b[0m\u001b[1;33m+\u001b[0m\u001b[1;36m1\u001b[0m\u001b[1;33m\u001b[0m\u001b[1;33m\u001b[0m\u001b[0m\n\u001b[1;32m----> 8\u001b[1;33m         \u001b[1;32mreturn\u001b[0m \u001b[0mr\u001b[0m\u001b[1;33m.\u001b[0m\u001b[0mfind\u001b[0m\u001b[1;33m(\u001b[0m\u001b[1;34m'span'\u001b[0m\u001b[1;33m,\u001b[0m\u001b[1;33m{\u001b[0m\u001b[1;34m'class'\u001b[0m\u001b[1;33m:\u001b[0m\u001b[1;34m'a-icon-alt'\u001b[0m\u001b[1;33m}\u001b[0m\u001b[1;33m)\u001b[0m\u001b[1;33m.\u001b[0m\u001b[0mtext\u001b[0m\u001b[1;33m\u001b[0m\u001b[1;33m\u001b[0m\u001b[0m\n\u001b[0m\u001b[0;32m      9\u001b[0m \u001b[1;33m\u001b[0m\u001b[0m\n",
      "\u001b[1;31mAttributeError\u001b[0m: 'NoneType' object has no attribute 'text'"
     ]
    }
   ],
   "source": []
  },
  {
   "cell_type": "code",
   "execution_count": 136,
   "metadata": {},
   "outputs": [
    {
     "data": {
      "text/plain": [
       "'5% coupon applied.\\n\\n\\n\\n    Save 5%\\n\\n with coupon'"
      ]
     },
     "execution_count": 136,
     "metadata": {},
     "output_type": "execute_result"
    }
   ],
   "source": [
    "first_result=results[0]\n",
    "first_result.find_all('div', {'class':'a-row a-size-base a-color-secondary'})[0].text.strip()\n"
   ]
  },
  {
   "cell_type": "code",
   "execution_count": 165,
   "metadata": {},
   "outputs": [
    {
     "name": "stdout",
     "output_type": "stream",
     "text": [
      "yes\n"
     ]
    }
   ],
   "source": [
    "first_result=results[0]\n",
    "i=0\n",
    "if (isinstance(first_result.find('div', {'class':'a-row a-size-base a-color-secondary'}).text,str)):\n",
    "    i=1\n",
    "    \n",
    "if i==1:\n",
    "    print('yes')\n",
    "else:\n",
    "    print(\"No addition offers\")"
   ]
  },
  {
   "cell_type": "code",
   "execution_count": 349,
   "metadata": {},
   "outputs": [
    {
     "data": {
      "text/plain": [
       "['B082FTYS36']"
      ]
     },
     "execution_count": 349,
     "metadata": {},
     "output_type": "execute_result"
    }
   ],
   "source": [
    "\n",
    "xxx=results[54]\n",
    "a=xxx.find('span',{'class':'a-declarative'})\n",
    "c=str(a)\n",
    "b=re.findall(r'B\\w{9}',c)\n",
    "b"
   ]
  },
  {
   "cell_type": "code",
   "execution_count": 350,
   "metadata": {},
   "outputs": [],
   "source": [
    "def asin_no(xxx):\n",
    "    a=xxx.find('span',{'class':'a-declarative'})\n",
    "    c=str(a)\n",
    "    b=re.findall(r'B\\w{9}',c)\n",
    "    return b\n",
    "\n",
    "    \n",
    "    \n"
   ]
  },
  {
   "cell_type": "code",
   "execution_count": 305,
   "metadata": {},
   "outputs": [
    {
     "name": "stdout",
     "output_type": "stream",
     "text": [
      "None\n"
     ]
    }
   ],
   "source": [
    "first_result=results[1]\n",
    "asin_no(first_result)"
   ]
  },
  {
   "cell_type": "code",
   "execution_count": 351,
   "metadata": {},
   "outputs": [],
   "source": [
    "record=[]\n",
    "for result in results:\n",
    "    category='Hair Accessories- Clips'\n",
    "    Name=result.find('span',{'class':'a-size-base-plus a-color-base a-text-normal'}).text\n",
    "    \n",
    "    rating=rate(result)\n",
    "    Discounted_Price=result.find_all('span',{'class':'a-offscreen'})[0].text\n",
    "    Actual_Price=result.find_all('span',{'class':'a-offscreen'})[1].text\n",
    "    link='https://www.amazon.in'+result.find('a')['href']\n",
    "    ASIN=asin_no(result)\n",
    "         \n",
    "    record.append((category,Name,rating,Discounted_Price,Actual_Price,link,ASIN))"
   ]
  },
  {
   "cell_type": "code",
   "execution_count": 352,
   "metadata": {},
   "outputs": [
    {
     "data": {
      "text/plain": [
       "56"
      ]
     },
     "execution_count": 352,
     "metadata": {},
     "output_type": "execute_result"
    }
   ],
   "source": [
    "len(record)"
   ]
  },
  {
   "cell_type": "code",
   "execution_count": 354,
   "metadata": {},
   "outputs": [
    {
     "data": {
      "text/plain": [
       "('Hair Accessories- Clips',\n",
       " 'VIKSON INTERNATIONAL Bride Silver Pearl Hair Comb Wedding Bridal Women Hair Accessories Handmade Flower Head for girls women (24 cm long)',\n",
       " '3.0 out of 5 stars',\n",
       " '₹629',\n",
       " '₹899',\n",
       " 'https://www.amazon.in/VIKSON-INTERNATIONAL-Wedding-Accessories-Handmade/dp/B082FTYS36/ref=sr_1_55?dchild=1&keywords=hair+clips+for+women&qid=1583742904&sr=8-55',\n",
       " ['B082FTYS36'])"
      ]
     },
     "execution_count": 354,
     "metadata": {},
     "output_type": "execute_result"
    }
   ],
   "source": [
    "record[54]"
   ]
  },
  {
   "cell_type": "code",
   "execution_count": null,
   "metadata": {},
   "outputs": [],
   "source": []
  }
 ],
 "metadata": {
  "kernelspec": {
   "display_name": "Python 3",
   "language": "python",
   "name": "python3"
  },
  "language_info": {
   "codemirror_mode": {
    "name": "ipython",
    "version": 3
   },
   "file_extension": ".py",
   "mimetype": "text/x-python",
   "name": "python",
   "nbconvert_exporter": "python",
   "pygments_lexer": "ipython3",
   "version": "3.7.4"
  }
 },
 "nbformat": 4,
 "nbformat_minor": 2
}
