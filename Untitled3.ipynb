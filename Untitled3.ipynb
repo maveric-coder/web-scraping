{
 "cells": [
  {
   "cell_type": "code",
   "execution_count": 1,
   "metadata": {},
   "outputs": [],
   "source": [
    "import requests\n",
    "r = requests.get('https://www.amazon.in/s?k=samsung+mobiles&crid=XCM3NQTCPGSP&sprefix=samsun%2Caps%2C1051&ref=nb_sb_ss_i_4_6')"
   ]
  },
  {
   "cell_type": "code",
   "execution_count": 2,
   "metadata": {},
   "outputs": [],
   "source": [
    "from bs4 import BeautifulSoup\n",
    "soup = BeautifulSoup(r.text,'html.parser')"
   ]
  },
  {
   "cell_type": "code",
   "execution_count": 19,
   "metadata": {},
   "outputs": [],
   "source": [
    "results=soup.find_all('div', attrs={'class':'s-include-content-margin s-border-bottom'})"
   ]
  },
  {
   "cell_type": "code",
   "execution_count": 20,
   "metadata": {},
   "outputs": [
    {
     "data": {
      "text/plain": [
       "16"
      ]
     },
     "execution_count": 20,
     "metadata": {},
     "output_type": "execute_result"
    }
   ],
   "source": [
    "len(results)"
   ]
  },
  {
   "cell_type": "code",
   "execution_count": 22,
   "metadata": {},
   "outputs": [
    {
     "data": {
      "text/plain": [
       "<div class=\"s-include-content-margin s-border-bottom\">\n",
       "<div class=\"a-section a-spacing-medium\">\n",
       "<div class=\"sg-row\">\n",
       "<div class=\"a-section a-spacing-micro s-min-height-small\">\n",
       "<span aria-label=\"Amazon's Choice\">\n",
       "<a class=\"a-link-normal\" href=\"/Test-Exclusive-633/dp/B07HGH82LT/ref=ice_ac_b_dpb\">\n",
       "<span class=\"rush-component\" data-component-props='{\"badgeType\":\"amazons-choice\",\"asin\":\"B07HGH82LT\"}' data-component-type=\"s-status-badge-component\">\n",
       "<div class=\"a-row a-badge-region\"><span aria-labelledby=\"B07HGH82LT-amazons-choice-label B07HGH82LT-amazons-choice-supplementary\" class=\"a-badge\" data-a-badge-supplementary-position=\"right\" data-a-badge-type=\"status\" id=\"B07HGH82LT-amazons-choice\" tabindex=\"0\"><span aria-hidden=\"true\" class=\"a-badge-label\" data-a-badge-color=\"sx-gulfstream\" id=\"B07HGH82LT-amazons-choice-label\"><span class=\"a-badge-label-inner a-text-ellipsis\">\n",
       "<span class=\"a-badge-text\" data-a-badge-color=\"sx-cloud\">Amazon's </span>\n",
       "<span class=\"a-badge-text\" data-a-badge-color=\"ac-orange\">Choice</span>\n",
       "</span></span><span aria-hidden=\"true\" class=\"a-badge-supplementary-text a-text-ellipsis\" id=\"B07HGH82LT-amazons-choice-supplementary\">for \"samsung mobiles\"</span></span></div>\n",
       "</span>\n",
       "</a>\n",
       "</span>\n",
       "</div>\n",
       "</div>\n",
       "<div class=\"sg-row\">\n",
       "<div class=\"sg-col-4-of-24 sg-col-4-of-12 sg-col-4-of-36 sg-col-4-of-28 sg-col-4-of-16 sg-col sg-col-4-of-20 sg-col-4-of-32\"><div class=\"sg-col-inner\">\n",
       "<div class=\"a-section a-spacing-none\">\n",
       "<span class=\"rush-component\" data-component-type=\"s-product-image\">\n",
       "<a class=\"a-link-normal\" href=\"/Test-Exclusive-633/dp/B07HGH82LT\" target=\"_blank\">\n",
       "<div class=\"a-section aok-relative s-image-fixed-height\">\n",
       "<img alt=\"Samsung Galaxy M10s (Metallic Blue, 3GB RAM, Super AMOLED Display, 32GB Storage, 4000mAH Battery)\" class=\"s-image\" data-image-index=\"2\" data-image-latency=\"s-product-image\" data-image-load=\"\" data-image-source-density=\"1\" src=\"https://m.media-amazon.com/images/I/711vPkqkrDL._AC_UY218_ML3_.jpg\" srcset=\"https://m.media-amazon.com/images/I/711vPkqkrDL._AC_UY218_ML3_.jpg 1x, https://m.media-amazon.com/images/I/711vPkqkrDL._AC_UY327_QL65_ML3_.jpg 1.5x, https://m.media-amazon.com/images/I/711vPkqkrDL._AC_UY436_QL65_ML3_.jpg 2x, https://m.media-amazon.com/images/I/711vPkqkrDL._AC_UY545_QL65_ML3_.jpg 2.5x, https://m.media-amazon.com/images/I/711vPkqkrDL._AC_UY654_QL65_ML3_.jpg 3x\"/>\n",
       "</div>\n",
       "</a>\n",
       "</span>\n",
       "</div>\n",
       "</div></div>\n",
       "<div class=\"sg-col-4-of-12 sg-col-8-of-16 sg-col-16-of-24 sg-col-12-of-20 sg-col-24-of-32 sg-col sg-col-28-of-36 sg-col-20-of-28\"><div class=\"sg-col-inner\">\n",
       "<div class=\"sg-row\">\n",
       "<div class=\"sg-col-4-of-12 sg-col-8-of-16 sg-col-12-of-32 sg-col-12-of-20 sg-col-12-of-36 sg-col sg-col-12-of-24 sg-col-12-of-28\"><div class=\"sg-col-inner\">\n",
       "<div class=\"a-section a-spacing-none\">\n",
       "<h2 class=\"a-size-mini a-spacing-none a-color-base s-line-clamp-2\">\n",
       "<a class=\"a-link-normal a-text-normal\" href=\"/Test-Exclusive-633/dp/B07HGH82LT\" target=\"_blank\">\n",
       "<span class=\"a-size-medium a-color-base a-text-normal\">Samsung Galaxy M10s (Metallic Blue, 3GB RAM, Super AMOLED Display, 32GB Storage, 4000mAH Battery)</span>\n",
       "</a>\n",
       "</h2>\n",
       "</div>\n",
       "<div class=\"a-section a-spacing-none a-spacing-top-micro\">\n",
       "<div class=\"a-row a-size-small\">\n",
       "<span aria-label=\"4.3 out of 5 stars\">\n",
       "<span class=\"a-declarative\" data-a-popover='{\"max-width\":\"700\",\"closeButton\":false,\"position\":\"triggerBottom\",\"url\":\"/review/widgets/average-customer-review/popover/ref=acr_search__popover?ie=UTF8&amp;asin=B07HGH82LT&amp;ref=acr_search__popover&amp;contextId=search\"}' data-action=\"a-popover\">\n",
       "<a class=\"a-popover-trigger a-declarative\" href=\"javascript:void(0)\"><i class=\"a-icon a-icon-star-small a-star-small-4-5 aok-align-bottom\"><span class=\"a-icon-alt\">4.3 out of 5 stars</span></i><i class=\"a-icon a-icon-popover\"></i></a>\n",
       "</span>\n",
       "</span>\n",
       "<span aria-label=\"11,608\">\n",
       "<a class=\"a-link-normal\" href=\"/Test-Exclusive-633/dp/B07HGH82LT#customerReviews\" target=\"_blank\">\n",
       "<span class=\"a-size-base\">11,608</span>\n",
       "</a>\n",
       "</span>\n",
       "</div>\n",
       "</div>\n",
       "</div></div>\n",
       "</div>\n",
       "<div class=\"sg-row\">\n",
       "<div class=\"sg-col-4-of-24 sg-col-4-of-12 sg-col-4-of-36 sg-col-4-of-28 sg-col-4-of-16 sg-col sg-col-4-of-20 sg-col-4-of-32\"><div class=\"sg-col-inner\">\n",
       "<div class=\"a-section a-spacing-none a-spacing-top-small\">\n",
       "<div class=\"a-row a-size-base a-color-base\"><div class=\"a-row\">\n",
       "<a class=\"a-size-base a-link-normal s-no-hover a-text-normal\" href=\"/Test-Exclusive-633/dp/B07HGH82LT\" target=\"_blank\">\n",
       "<span class=\"a-price\" data-a-color=\"price\" data-a-size=\"l\"><span class=\"a-offscreen\">₹8,499</span><span aria-hidden=\"true\"><span class=\"a-price-symbol\">₹</span><span class=\"a-price-whole\">8,499</span></span></span>\n",
       "<span class=\"a-price a-text-price\" data-a-color=\"secondary\" data-a-size=\"b\" data-a-strike=\"true\"><span class=\"a-offscreen\">₹10,000</span><span aria-hidden=\"true\">₹10,000</span></span>\n",
       "</a>\n",
       "<span class=\"a-letter-space\"></span><span>Save ₹1,501 (15%)</span><span class=\"a-letter-space\"></span></div></div>\n",
       "</div>\n",
       "<div class=\"a-section a-spacing-none a-spacing-top-micro\">\n",
       "<div class=\"a-row a-size-base a-color-secondary s-align-children-center\"><div class=\"a-row s-align-children-center\">\n",
       "<span class=\"aok-inline-block s-image-logo-view\">\n",
       "<span class=\"aok-relative s-icon-text-medium s-prime\">\n",
       "<i aria-label=\"Amazon Prime\" class=\"a-icon a-icon-prime a-icon-medium\" role=\"img\"></i>\n",
       "</span>\n",
       "<span>\n",
       "</span>\n",
       "</span>\n",
       "<span aria-label=\"Get it by Tomorrow, Feb 3\">\n",
       "<span>Get it by </span><span class=\"a-text-bold\">Tomorrow, Feb 3</span>\n",
       "</span>\n",
       "</div><div class=\"a-row\">\n",
       "<span aria-label=\"FREE Delivery by Amazon\">\n",
       "<span>FREE Delivery by Amazon</span>\n",
       "</span>\n",
       "</div></div>\n",
       "</div>\n",
       "</div></div>\n",
       "<div class=\"sg-col-4-of-12 sg-col-8-of-28 sg-col-4-of-16 sg-col-8-of-32 sg-col sg-col-8-of-20 sg-col-8-of-36 sg-col-8-of-24\"><div class=\"sg-col-inner\">\n",
       "</div></div>\n",
       "</div>\n",
       "<div class=\"sg-row\">\n",
       "<div class=\"sg-col-20-of-24 sg-col-28-of-32 sg-col-16-of-20 sg-col sg-col-32-of-36 sg-col-8-of-12 sg-col-12-of-16 sg-col-24-of-28\"><div class=\"sg-col-inner\">\n",
       "</div></div>\n",
       "</div>\n",
       "<div class=\"sg-row\">\n",
       "<div class=\"sg-col-20-of-24 sg-col-28-of-32 sg-col-16-of-20 sg-col sg-col-32-of-36 sg-col-8-of-12 sg-col-12-of-16 sg-col-24-of-28\"><div class=\"sg-col-inner\">\n",
       "</div></div>\n",
       "</div>\n",
       "</div></div>\n",
       "</div>\n",
       "</div>\n",
       "</div>"
      ]
     },
     "execution_count": 22,
     "metadata": {},
     "output_type": "execute_result"
    }
   ],
   "source": [
    "results[1]"
   ]
  },
  {
   "cell_type": "code",
   "execution_count": null,
   "metadata": {},
   "outputs": [],
   "source": []
  }
 ],
 "metadata": {
  "kernelspec": {
   "display_name": "Python 3",
   "language": "python",
   "name": "python3"
  },
  "language_info": {
   "codemirror_mode": {
    "name": "ipython",
    "version": 3
   },
   "file_extension": ".py",
   "mimetype": "text/x-python",
   "name": "python",
   "nbconvert_exporter": "python",
   "pygments_lexer": "ipython3",
   "version": "3.7.4"
  }
 },
 "nbformat": 4,
 "nbformat_minor": 2
}
