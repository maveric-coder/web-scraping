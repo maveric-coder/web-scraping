{
 "cells": [
  {
   "cell_type": "code",
   "execution_count": 1,
   "metadata": {},
   "outputs": [],
   "source": [
    "import requests\n",
    "r = requests.get('https://www.newegg.com/Video-Cards-Video-Devices/Category/ID-38?Tpk=graphics%20card')"
   ]
  },
  {
   "cell_type": "code",
   "execution_count": 2,
   "metadata": {},
   "outputs": [
    {
     "name": "stdout",
     "output_type": "stream",
     "text": [
      "<!DOCTYPE HTML>\r\n",
      "<html lang=\"en-us\">\r\n",
      "<head>\r\n",
      "<script src=\"//imk.neweggimages.com/WebResource/Scripts/usa/strc/usa_prod/d2f967b83a0c92b19d9b572545fdbdc3d591f6f5/biztralib.js\"></script>\n",
      "        <script src=\"//imk.neweggimages.com/webresource/scripts/plugin/inhousebiztra.js\"></script>\r\n",
      "\t<title>Graphics Cards and Video Cards - Newegg.com</title>\r\n",
      "\t<meta http-equiv=\"Content-Type\" content=\"text/html; charset=UTF-8\">\r\n",
      "\t<meta name=\"referrer\" content=\"always\">\r\n",
      "\t<meta name=\"keywords\" content=\"Graphics C\n"
     ]
    }
   ],
   "source": [
    "print(r.text[0:500])"
   ]
  },
  {
   "cell_type": "code",
   "execution_count": 3,
   "metadata": {},
   "outputs": [],
   "source": [
    "from bs4 import BeautifulSoup\n",
    "soup = BeautifulSoup(r.text,'html.parser')"
   ]
  },
  {
   "cell_type": "code",
   "execution_count": 4,
   "metadata": {},
   "outputs": [],
   "source": [
    "results=soup.find_all('div', attrs={'class':'item-container'})"
   ]
  },
  {
   "cell_type": "code",
   "execution_count": 5,
   "metadata": {},
   "outputs": [
    {
     "data": {
      "text/plain": [
       "12"
      ]
     },
     "execution_count": 5,
     "metadata": {},
     "output_type": "execute_result"
    }
   ],
   "source": [
    "len(results)"
   ]
  },
  {
   "cell_type": "code",
   "execution_count": 6,
   "metadata": {},
   "outputs": [
    {
     "data": {
      "text/plain": [
       "<div class=\"item-container\">\n",
       "<!--product image-->\n",
       "<a class=\"item-img\" href=\"https://www.newegg.com/asus-geforce-rtx-2080-ti-rog-strix-rtx2080ti-11g-gaming/p/N82E16814126080?Item=N82E16814126080\">\n",
       "<div class=\"item-badges\">\n",
       "</div>\n",
       "<img alt=\"ASUS ROG Strix GeForce RTX 2080 Ti DirectX 12 ROG-STRIX-RTX2080TI-11G-GAMING 11GB 352-Bit GDDR6 PCI Express 3.0 HDCP Ready SLI Support Video Card\" class=\"lazy-img\" data-effect=\"fadeIn\" data-src=\"//c1.neweggimages.com/NeweggImage/ProductImageCompressAll300/14-126-080-V50.jpg\" src=\"//c1.neweggimages.com/WebResource/Themes/2005/Nest/blank.gif\" title=\"ASUS ROG Strix GeForce RTX 2080 Ti DirectX 12 ROG-STRIX-RTX2080TI-11G-GAMING 11GB 352-Bit GDDR6 PCI Express 3.0 HDCP Ready SLI Support Video Card\">\n",
       "</img></a>\n",
       "<div class=\"item-info\">\n",
       "<!--brand info-->\n",
       "<div class=\"item-branding\">\n",
       "<a class=\"item-brand\" href=\"https://www.newegg.com/ASUS/BrandStore/ID-1315\">\n",
       "<img alt=\"ASUS\" class=\"lazy-img\" data-effect=\"fadeIn\" data-src=\"//c1.neweggimages.com/Brandimage_70x28//Brand1315.gif\" src=\"//c1.neweggimages.com/WebResource/Themes/2005/Nest/blank.gif\" title=\"ASUS\">\n",
       "</img></a>\n",
       "<!--rating info-->\n",
       "<a class=\"item-rating\" href=\"https://www.newegg.com/asus-geforce-rtx-2080-ti-rog-strix-rtx2080ti-11g-gaming/p/N82E16814126080?Item=N82E16814126080&amp;SortField=0&amp;SummaryType=0&amp;PageSize=10&amp;SelectedRating=-1&amp;VideoOnlyMark=False&amp;IsFeedbackTab=true#scrollFullInfo\" title=\"Rating + 4\"><i class=\"rating rating-4\"></i><span class=\"item-rating-num\">(9)</span></a>\n",
       "</div>\n",
       "<!--description info-->\n",
       "<a class=\"item-title\" href=\"https://www.newegg.com/asus-geforce-rtx-2080-ti-rog-strix-rtx2080ti-11g-gaming/p/N82E16814126080?Item=N82E16814126080\" title=\"View Details\">ASUS ROG Strix GeForce RTX 2080 Ti DirectX 12 ROG-STRIX-RTX2080TI-11G-GAMING Video Card</a>\n",
       "<!--promption info-->\n",
       "<p class=\"item-promo\"></p>\n",
       "<!--feature-->\n",
       "<ul class=\"item-features\">\n",
       "<li><strong>Core Clock:</strong> 1350 MHz</li><li><strong>Max Resolution:</strong> 7680 x 4320</li><li><strong>DisplayPort:</strong> 2 x DisplayPort 1.4</li><li><strong>HDMI:</strong> 2 x HDMI 2.0b</li>\n",
       "<li><strong>Model #: </strong>RTX2080TI-11G-GAMING</li>\n",
       "<li><strong>Item #: </strong>N82E16814126080</li>\n",
       "</ul>\n",
       "<div class=\"item-action\">\n",
       "<!--price-->\n",
       "<ul class=\"price\">\n",
       "<li class=\"price-was\">\n",
       "</li>\n",
       "<li class=\"price-map\">\n",
       "</li>\n",
       "<li class=\"price-current\">\n",
       "<span class=\"price-current-label\">\n",
       "</span>$<strong>1,259</strong><sup>.99</sup> \n",
       "            <span class=\"price-current-range\">\n",
       "<abbr title=\"to\">–</abbr>\n",
       "</span>\n",
       "</li>\n",
       "<li class=\"price-save\">\n",
       "<span class=\"price-save-endtime price-save-endtime-current\"></span>\n",
       "<span class=\"price-save-endtime price-save-endtime-another\" style=\"display:none;\"></span>\n",
       "</li>\n",
       "<li class=\"price-note\">\n",
       "</li>\n",
       "<li class=\"price-ship\">\n",
       "        $6.99 Shipping\n",
       "    </li>\n",
       "</ul>\n",
       "<!--egg point-->\n",
       "<!--financing-->\n",
       "<!--button-->\n",
       "<div class=\"item-operate hidden-action-button\">\n",
       "<div class=\"item-button-area\">\n",
       "<button class=\"btn btn-mini\" onclick=\"Javascript:Biz.ProductList.Item.add('https://www.newegg.com/asus-geforce-rtx-2080-ti-rog-strix-rtx2080ti-11g-gaming/p/N82E16814126080?Item=N82E16814126080');\" title=\"View Details\" type=\"button\">View Details <i class=\"fa fa-caret-right\"></i>\n",
       "</button>\n",
       "</div>\n",
       "<!--compare-->\n",
       "<div class=\"item-compare-box\">\n",
       "<label class=\"form-checkbox\">\n",
       "<input autocomplete=\"off\" name=\"CompareItem\" neg-itemnumber=\"14-126-080\" type=\"checkbox\" value=\"CompareItem_14-126-080\"/>\n",
       "<span class=\"form-checkbox-title\">Compare</span>\n",
       "</label>\n",
       "</div>\n",
       "<script type=\"text/javascript\">\n",
       "                            \n",
       "                                Biz.Product.CompareConfig2019.compareItems.push(\"14-126-080\");\n",
       "                                var itemThumbs = new Object();\n",
       "                                itemThumbs.subCategoryId = 48;\n",
       "                                itemThumbs.subCategoryDescription = \"Desktop Graphics Cards\";\n",
       "                                itemThumbs.itemNumber = \"14-126-080\";\n",
       "                                itemThumbs.imageUrl = \"//c1.neweggimages.com/ProductImageCompressAll35/14-126-080-V50.jpg\";\n",
       "                                itemThumbs.description = \"ASUS ROG Strix GeForce RTX 2080 Ti DirectX 12 ROG-STRIX-RTX2080TI-11G-GAMING Video Card\";\n",
       "                                itemThumbs.productUrl = \"/asus-geforce-rtx-2080-ti-rog-strix-rtx2080ti-11g-gaming/p/N82E16814126080?Item=N82E16814126080\";\n",
       "                                Biz.Product.CompareConfig2019.Thumbs.push(itemThumbs);\n",
       "                            \n",
       "                    </script>\n",
       "</div>\n",
       "<!--ExtendWarranty PopUp-->\n",
       "<input class=\"open-popup\" id=\"ew_N82E16814126080\" type=\"hidden\">\n",
       "<input class=\"open-popup\" id=\"ew_MainItemFailedAddToCart_N82E16814126080\" type=\"hidden\">\n",
       "</input></input></div>\n",
       "</div>\n",
       "<div class=\"item-stock\" id=\"stock_14-126-080\">\n",
       "</div>\n",
       "</div>"
      ]
     },
     "execution_count": 6,
     "metadata": {},
     "output_type": "execute_result"
    }
   ],
   "source": [
    "results[0]"
   ]
  },
  {
   "cell_type": "code",
   "execution_count": 7,
   "metadata": {},
   "outputs": [],
   "source": [
    "first_result = results[0]"
   ]
  },
  {
   "cell_type": "code",
   "execution_count": 8,
   "metadata": {},
   "outputs": [
    {
     "data": {
      "text/plain": [
       "<div class=\"item-container\">\n",
       "<!--product image-->\n",
       "<a class=\"item-img\" href=\"https://www.newegg.com/asus-geforce-rtx-2080-ti-rog-strix-rtx2080ti-11g-gaming/p/N82E16814126080?Item=N82E16814126080\">\n",
       "<div class=\"item-badges\">\n",
       "</div>\n",
       "<img alt=\"ASUS ROG Strix GeForce RTX 2080 Ti DirectX 12 ROG-STRIX-RTX2080TI-11G-GAMING 11GB 352-Bit GDDR6 PCI Express 3.0 HDCP Ready SLI Support Video Card\" class=\"lazy-img\" data-effect=\"fadeIn\" data-src=\"//c1.neweggimages.com/NeweggImage/ProductImageCompressAll300/14-126-080-V50.jpg\" src=\"//c1.neweggimages.com/WebResource/Themes/2005/Nest/blank.gif\" title=\"ASUS ROG Strix GeForce RTX 2080 Ti DirectX 12 ROG-STRIX-RTX2080TI-11G-GAMING 11GB 352-Bit GDDR6 PCI Express 3.0 HDCP Ready SLI Support Video Card\">\n",
       "</img></a>\n",
       "<div class=\"item-info\">\n",
       "<!--brand info-->\n",
       "<div class=\"item-branding\">\n",
       "<a class=\"item-brand\" href=\"https://www.newegg.com/ASUS/BrandStore/ID-1315\">\n",
       "<img alt=\"ASUS\" class=\"lazy-img\" data-effect=\"fadeIn\" data-src=\"//c1.neweggimages.com/Brandimage_70x28//Brand1315.gif\" src=\"//c1.neweggimages.com/WebResource/Themes/2005/Nest/blank.gif\" title=\"ASUS\">\n",
       "</img></a>\n",
       "<!--rating info-->\n",
       "<a class=\"item-rating\" href=\"https://www.newegg.com/asus-geforce-rtx-2080-ti-rog-strix-rtx2080ti-11g-gaming/p/N82E16814126080?Item=N82E16814126080&amp;SortField=0&amp;SummaryType=0&amp;PageSize=10&amp;SelectedRating=-1&amp;VideoOnlyMark=False&amp;IsFeedbackTab=true#scrollFullInfo\" title=\"Rating + 4\"><i class=\"rating rating-4\"></i><span class=\"item-rating-num\">(9)</span></a>\n",
       "</div>\n",
       "<!--description info-->\n",
       "<a class=\"item-title\" href=\"https://www.newegg.com/asus-geforce-rtx-2080-ti-rog-strix-rtx2080ti-11g-gaming/p/N82E16814126080?Item=N82E16814126080\" title=\"View Details\">ASUS ROG Strix GeForce RTX 2080 Ti DirectX 12 ROG-STRIX-RTX2080TI-11G-GAMING Video Card</a>\n",
       "<!--promption info-->\n",
       "<p class=\"item-promo\"></p>\n",
       "<!--feature-->\n",
       "<ul class=\"item-features\">\n",
       "<li><strong>Core Clock:</strong> 1350 MHz</li><li><strong>Max Resolution:</strong> 7680 x 4320</li><li><strong>DisplayPort:</strong> 2 x DisplayPort 1.4</li><li><strong>HDMI:</strong> 2 x HDMI 2.0b</li>\n",
       "<li><strong>Model #: </strong>RTX2080TI-11G-GAMING</li>\n",
       "<li><strong>Item #: </strong>N82E16814126080</li>\n",
       "</ul>\n",
       "<div class=\"item-action\">\n",
       "<!--price-->\n",
       "<ul class=\"price\">\n",
       "<li class=\"price-was\">\n",
       "</li>\n",
       "<li class=\"price-map\">\n",
       "</li>\n",
       "<li class=\"price-current\">\n",
       "<span class=\"price-current-label\">\n",
       "</span>$<strong>1,259</strong><sup>.99</sup> \n",
       "            <span class=\"price-current-range\">\n",
       "<abbr title=\"to\">–</abbr>\n",
       "</span>\n",
       "</li>\n",
       "<li class=\"price-save\">\n",
       "<span class=\"price-save-endtime price-save-endtime-current\"></span>\n",
       "<span class=\"price-save-endtime price-save-endtime-another\" style=\"display:none;\"></span>\n",
       "</li>\n",
       "<li class=\"price-note\">\n",
       "</li>\n",
       "<li class=\"price-ship\">\n",
       "        $6.99 Shipping\n",
       "    </li>\n",
       "</ul>\n",
       "<!--egg point-->\n",
       "<!--financing-->\n",
       "<!--button-->\n",
       "<div class=\"item-operate hidden-action-button\">\n",
       "<div class=\"item-button-area\">\n",
       "<button class=\"btn btn-mini\" onclick=\"Javascript:Biz.ProductList.Item.add('https://www.newegg.com/asus-geforce-rtx-2080-ti-rog-strix-rtx2080ti-11g-gaming/p/N82E16814126080?Item=N82E16814126080');\" title=\"View Details\" type=\"button\">View Details <i class=\"fa fa-caret-right\"></i>\n",
       "</button>\n",
       "</div>\n",
       "<!--compare-->\n",
       "<div class=\"item-compare-box\">\n",
       "<label class=\"form-checkbox\">\n",
       "<input autocomplete=\"off\" name=\"CompareItem\" neg-itemnumber=\"14-126-080\" type=\"checkbox\" value=\"CompareItem_14-126-080\"/>\n",
       "<span class=\"form-checkbox-title\">Compare</span>\n",
       "</label>\n",
       "</div>\n",
       "<script type=\"text/javascript\">\n",
       "                            \n",
       "                                Biz.Product.CompareConfig2019.compareItems.push(\"14-126-080\");\n",
       "                                var itemThumbs = new Object();\n",
       "                                itemThumbs.subCategoryId = 48;\n",
       "                                itemThumbs.subCategoryDescription = \"Desktop Graphics Cards\";\n",
       "                                itemThumbs.itemNumber = \"14-126-080\";\n",
       "                                itemThumbs.imageUrl = \"//c1.neweggimages.com/ProductImageCompressAll35/14-126-080-V50.jpg\";\n",
       "                                itemThumbs.description = \"ASUS ROG Strix GeForce RTX 2080 Ti DirectX 12 ROG-STRIX-RTX2080TI-11G-GAMING Video Card\";\n",
       "                                itemThumbs.productUrl = \"/asus-geforce-rtx-2080-ti-rog-strix-rtx2080ti-11g-gaming/p/N82E16814126080?Item=N82E16814126080\";\n",
       "                                Biz.Product.CompareConfig2019.Thumbs.push(itemThumbs);\n",
       "                            \n",
       "                    </script>\n",
       "</div>\n",
       "<!--ExtendWarranty PopUp-->\n",
       "<input class=\"open-popup\" id=\"ew_N82E16814126080\" type=\"hidden\">\n",
       "<input class=\"open-popup\" id=\"ew_MainItemFailedAddToCart_N82E16814126080\" type=\"hidden\">\n",
       "</input></input></div>\n",
       "</div>\n",
       "<div class=\"item-stock\" id=\"stock_14-126-080\">\n",
       "</div>\n",
       "</div>"
      ]
     },
     "execution_count": 8,
     "metadata": {},
     "output_type": "execute_result"
    }
   ],
   "source": [
    "first_result"
   ]
  },
  {
   "cell_type": "code",
   "execution_count": 9,
   "metadata": {},
   "outputs": [
    {
     "data": {
      "text/plain": [
       "<a class=\"item-img\" href=\"https://www.newegg.com/asus-geforce-rtx-2080-ti-rog-strix-rtx2080ti-11g-gaming/p/N82E16814126080?Item=N82E16814126080\">\n",
       "<div class=\"item-badges\">\n",
       "</div>\n",
       "<img alt=\"ASUS ROG Strix GeForce RTX 2080 Ti DirectX 12 ROG-STRIX-RTX2080TI-11G-GAMING 11GB 352-Bit GDDR6 PCI Express 3.0 HDCP Ready SLI Support Video Card\" class=\"lazy-img\" data-effect=\"fadeIn\" data-src=\"//c1.neweggimages.com/NeweggImage/ProductImageCompressAll300/14-126-080-V50.jpg\" src=\"//c1.neweggimages.com/WebResource/Themes/2005/Nest/blank.gif\" title=\"ASUS ROG Strix GeForce RTX 2080 Ti DirectX 12 ROG-STRIX-RTX2080TI-11G-GAMING 11GB 352-Bit GDDR6 PCI Express 3.0 HDCP Ready SLI Support Video Card\">\n",
       "</img></a>"
      ]
     },
     "execution_count": 9,
     "metadata": {},
     "output_type": "execute_result"
    }
   ],
   "source": [
    "first_result.find('a')\n"
   ]
  },
  {
   "cell_type": "code",
   "execution_count": 50,
   "metadata": {},
   "outputs": [
    {
     "data": {
      "text/plain": [
       "'ASUS ROG Strix GeForce RTX 2080 Ti DirectX 12 ROG-STRIX-RTX2080TI-11G-GAMING 11GB 352-Bit GDDR6 PCI Express 3.0 HDCP Ready SLI Support Video Card'"
      ]
     },
     "execution_count": 50,
     "metadata": {},
     "output_type": "execute_result"
    }
   ],
   "source": [
    "first_result.find('a').img['title']\n",
    "##title"
   ]
  },
  {
   "cell_type": "code",
   "execution_count": 49,
   "metadata": {},
   "outputs": [
    {
     "data": {
      "text/plain": [
       "'https://www.newegg.com/asus-geforce-rtx-2080-ti-rog-strix-rtx2080ti-11g-gaming/p/N82E16814126080?Item=N82E16814126080'"
      ]
     },
     "execution_count": 49,
     "metadata": {},
     "output_type": "execute_result"
    }
   ],
   "source": [
    "first_result.find('a')['href']\n",
    "\n",
    "##url"
   ]
  },
  {
   "cell_type": "code",
   "execution_count": 16,
   "metadata": {},
   "outputs": [],
   "source": [
    "t=first_result.find('a').img['title']"
   ]
  },
  {
   "cell_type": "code",
   "execution_count": 17,
   "metadata": {},
   "outputs": [
    {
     "data": {
      "text/plain": [
       "'ASUS ROG Strix GeForce RTX 2080 Ti DirectX 12 ROG-STRIX-RTX2080TI-11G-GAMING 11GB 352-Bit GDDR6 PCI Express 3.0 HDCP Ready SLI Support Video Card'"
      ]
     },
     "execution_count": 17,
     "metadata": {},
     "output_type": "execute_result"
    }
   ],
   "source": [
    "t\n"
   ]
  },
  {
   "cell_type": "code",
   "execution_count": 18,
   "metadata": {},
   "outputs": [
    {
     "data": {
      "text/plain": [
       "'A'"
      ]
     },
     "execution_count": 18,
     "metadata": {},
     "output_type": "execute_result"
    }
   ],
   "source": [
    "t[0:1]"
   ]
  },
  {
   "cell_type": "code",
   "execution_count": 51,
   "metadata": {},
   "outputs": [],
   "source": [
    "results2=soup.find_all('div', attrs={'class':'item-action'})\n",
    "\n",
    "    \n",
    "    \n"
   ]
  },
  {
   "cell_type": "code",
   "execution_count": 52,
   "metadata": {},
   "outputs": [
    {
     "data": {
      "text/plain": [
       "<div class=\"item-action\">\n",
       "<!--price-->\n",
       "<ul class=\"price\">\n",
       "<li class=\"price-was\">\n",
       "</li>\n",
       "<li class=\"price-map\">\n",
       "</li>\n",
       "<li class=\"price-current\">\n",
       "<span class=\"price-current-label\">\n",
       "</span>$<strong>1,259</strong><sup>.99</sup> \n",
       "            <span class=\"price-current-range\">\n",
       "<abbr title=\"to\">–</abbr>\n",
       "</span>\n",
       "</li>\n",
       "<li class=\"price-save\">\n",
       "<span class=\"price-save-endtime price-save-endtime-current\"></span>\n",
       "<span class=\"price-save-endtime price-save-endtime-another\" style=\"display:none;\"></span>\n",
       "</li>\n",
       "<li class=\"price-note\">\n",
       "</li>\n",
       "<li class=\"price-ship\">\n",
       "        $6.99 Shipping\n",
       "    </li>\n",
       "</ul>\n",
       "<!--egg point-->\n",
       "<!--financing-->\n",
       "<!--button-->\n",
       "<div class=\"item-operate hidden-action-button\">\n",
       "<div class=\"item-button-area\">\n",
       "<button class=\"btn btn-mini\" onclick=\"Javascript:Biz.ProductList.Item.add('https://www.newegg.com/asus-geforce-rtx-2080-ti-rog-strix-rtx2080ti-11g-gaming/p/N82E16814126080?Item=N82E16814126080');\" title=\"View Details\" type=\"button\">View Details <i class=\"fa fa-caret-right\"></i>\n",
       "</button>\n",
       "</div>\n",
       "<!--compare-->\n",
       "<div class=\"item-compare-box\">\n",
       "<label class=\"form-checkbox\">\n",
       "<input autocomplete=\"off\" name=\"CompareItem\" neg-itemnumber=\"14-126-080\" type=\"checkbox\" value=\"CompareItem_14-126-080\"/>\n",
       "<span class=\"form-checkbox-title\">Compare</span>\n",
       "</label>\n",
       "</div>\n",
       "<script type=\"text/javascript\">\n",
       "                            \n",
       "                                Biz.Product.CompareConfig2019.compareItems.push(\"14-126-080\");\n",
       "                                var itemThumbs = new Object();\n",
       "                                itemThumbs.subCategoryId = 48;\n",
       "                                itemThumbs.subCategoryDescription = \"Desktop Graphics Cards\";\n",
       "                                itemThumbs.itemNumber = \"14-126-080\";\n",
       "                                itemThumbs.imageUrl = \"//c1.neweggimages.com/ProductImageCompressAll35/14-126-080-V50.jpg\";\n",
       "                                itemThumbs.description = \"ASUS ROG Strix GeForce RTX 2080 Ti DirectX 12 ROG-STRIX-RTX2080TI-11G-GAMING Video Card\";\n",
       "                                itemThumbs.productUrl = \"/asus-geforce-rtx-2080-ti-rog-strix-rtx2080ti-11g-gaming/p/N82E16814126080?Item=N82E16814126080\";\n",
       "                                Biz.Product.CompareConfig2019.Thumbs.push(itemThumbs);\n",
       "                            \n",
       "                    </script>\n",
       "</div>\n",
       "<!--ExtendWarranty PopUp-->\n",
       "<input class=\"open-popup\" id=\"ew_N82E16814126080\" type=\"hidden\">\n",
       "<input class=\"open-popup\" id=\"ew_MainItemFailedAddToCart_N82E16814126080\" type=\"hidden\">\n",
       "</input></input></div>"
      ]
     },
     "execution_count": 52,
     "metadata": {},
     "output_type": "execute_result"
    }
   ],
   "source": [
    "results2[0]"
   ]
  },
  {
   "cell_type": "code",
   "execution_count": 56,
   "metadata": {},
   "outputs": [
    {
     "data": {
      "text/plain": [
       "'1,259'"
      ]
     },
     "execution_count": 56,
     "metadata": {},
     "output_type": "execute_result"
    }
   ],
   "source": [
    "f_i=results2[0].find('strong')\n",
    "f_i.text"
   ]
  },
  {
   "cell_type": "code",
   "execution_count": 57,
   "metadata": {},
   "outputs": [],
   "source": [
    "first_result.find('item-action')"
   ]
  },
  {
   "cell_type": "code",
   "execution_count": 87,
   "metadata": {},
   "outputs": [
    {
     "data": {
      "text/plain": [
       "'$1,259.99'"
      ]
     },
     "execution_count": 87,
     "metadata": {},
     "output_type": "execute_result"
    }
   ],
   "source": [
    "##    price\n",
    "\n",
    "first_result.find_all('li', attrs={'class':'price-current'})[0].text.strip()[0:-17]"
   ]
  },
  {
   "cell_type": "code",
   "execution_count": 75,
   "metadata": {},
   "outputs": [
    {
     "data": {
      "text/plain": [
       "[<li class=\"price-current\">\n",
       " <span class=\"price-current-label\">\n",
       " </span>$<strong>1,259</strong><sup>.99</sup> \n",
       "             <span class=\"price-current-range\">\n",
       " <abbr title=\"to\">–</abbr>\n",
       " </span>\n",
       " </li>]"
      ]
     },
     "execution_count": 75,
     "metadata": {},
     "output_type": "execute_result"
    }
   ],
   "source": [
    "ff"
   ]
  },
  {
   "cell_type": "code",
   "execution_count": 78,
   "metadata": {},
   "outputs": [
    {
     "ename": "AttributeError",
     "evalue": "ResultSet object has no attribute 'find_all'. You're probably treating a list of items like a single item. Did you call find_all() when you meant to call find()?",
     "output_type": "error",
     "traceback": [
      "\u001b[1;31m---------------------------------------------------------------------------\u001b[0m",
      "\u001b[1;31mAttributeError\u001b[0m                            Traceback (most recent call last)",
      "\u001b[1;32m<ipython-input-78-cc495284d346>\u001b[0m in \u001b[0;36m<module>\u001b[1;34m\u001b[0m\n\u001b[1;32m----> 1\u001b[1;33m \u001b[0myy\u001b[0m\u001b[1;33m=\u001b[0m\u001b[0mff\u001b[0m\u001b[1;33m.\u001b[0m\u001b[0mfind_all\u001b[0m\u001b[1;33m(\u001b[0m\u001b[1;34m'strong'\u001b[0m\u001b[1;33m)\u001b[0m\u001b[1;33m\u001b[0m\u001b[1;33m\u001b[0m\u001b[0m\n\u001b[0m",
      "\u001b[1;32m~\\Anaconda3\\lib\\site-packages\\bs4\\element.py\u001b[0m in \u001b[0;36m__getattr__\u001b[1;34m(self, key)\u001b[0m\n\u001b[0;32m   1599\u001b[0m     \u001b[1;32mdef\u001b[0m \u001b[0m__getattr__\u001b[0m\u001b[1;33m(\u001b[0m\u001b[0mself\u001b[0m\u001b[1;33m,\u001b[0m \u001b[0mkey\u001b[0m\u001b[1;33m)\u001b[0m\u001b[1;33m:\u001b[0m\u001b[1;33m\u001b[0m\u001b[1;33m\u001b[0m\u001b[0m\n\u001b[0;32m   1600\u001b[0m         raise AttributeError(\n\u001b[1;32m-> 1601\u001b[1;33m             \u001b[1;34m\"ResultSet object has no attribute '%s'. You're probably treating a list of items like a single item. Did you call find_all() when you meant to call find()?\"\u001b[0m \u001b[1;33m%\u001b[0m \u001b[0mkey\u001b[0m\u001b[1;33m\u001b[0m\u001b[1;33m\u001b[0m\u001b[0m\n\u001b[0m\u001b[0;32m   1602\u001b[0m         )\n",
      "\u001b[1;31mAttributeError\u001b[0m: ResultSet object has no attribute 'find_all'. You're probably treating a list of items like a single item. Did you call find_all() when you meant to call find()?"
     ]
    }
   ],
   "source": [
    "yy=ff.find_all('strong')"
   ]
  },
  {
   "cell_type": "code",
   "execution_count": null,
   "metadata": {},
   "outputs": [],
   "source": [
    "first_result.find_all('li', attrs={'class':'price-current'})[0].text.strip()[0:-17]"
   ]
  }
 ],
 "metadata": {
  "kernelspec": {
   "display_name": "Python 3",
   "language": "python",
   "name": "python3"
  },
  "language_info": {
   "codemirror_mode": {
    "name": "ipython",
    "version": 3
   },
   "file_extension": ".py",
   "mimetype": "text/x-python",
   "name": "python",
   "nbconvert_exporter": "python",
   "pygments_lexer": "ipython3",
   "version": "3.7.4"
  }
 },
 "nbformat": 4,
 "nbformat_minor": 2
}
